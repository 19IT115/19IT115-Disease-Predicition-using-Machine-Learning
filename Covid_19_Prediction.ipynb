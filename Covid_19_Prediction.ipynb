{
  "nbformat": 4,
  "nbformat_minor": 0,
  "metadata": {
    "colab": {
      "name": "Covid-19 Prediction.ipynb",
      "provenance": [],
      "collapsed_sections": []
    },
    "kernelspec": {
      "name": "python3",
      "display_name": "Python 3"
    },
    "language_info": {
      "name": "python"
    },
    "accelerator": "GPU"
  },
  "cells": [
    {
      "cell_type": "code",
      "metadata": {
        "colab": {
          "base_uri": "https://localhost:8080/"
        },
        "id": "OMg_oTn1YZbI",
        "outputId": "4fe65b96-2a74-4eeb-ab16-efc922a61490"
      },
      "source": [
        "from google.colab import drive\n",
        "drive.mount('/content/drive')"
      ],
      "execution_count": 1,
      "outputs": [
        {
          "output_type": "stream",
          "name": "stdout",
          "text": [
            "Mounted at /content/drive\n"
          ]
        }
      ]
    },
    {
      "cell_type": "code",
      "metadata": {
        "colab": {
          "base_uri": "https://localhost:8080/"
        },
        "id": "7XKqtEmscl-y",
        "outputId": "049a3cb4-5b7c-4e58-c750-5d8a9fdb1ce2"
      },
      "source": [
        "from zipfile import ZipFile\n",
        "file_name = \"/content/drive/My Drive/Covid-19 data.zip\"\n",
        "with ZipFile(file_name,'r') as zip:\n",
        "  zip.extractall()\n",
        "  print(\"Completed\")"
      ],
      "execution_count": 2,
      "outputs": [
        {
          "output_type": "stream",
          "name": "stdout",
          "text": [
            "Completed\n"
          ]
        }
      ]
    },
    {
      "cell_type": "code",
      "metadata": {
        "id": "7lM-Vz3Kdx2S"
      },
      "source": [
        "from tensorflow.keras.layers import *  # here * means every layer\n",
        "from tensorflow.keras.models import * \n",
        "import tensorflow.keras as tf"
      ],
      "execution_count": 3,
      "outputs": []
    },
    {
      "cell_type": "code",
      "metadata": {
        "id": "WtLG5vZoeFeC"
      },
      "source": [
        "#Training model\n",
        "model = Sequential()   # creating a blank model \n",
        "                       # here we are importing layers also so we can directly pass Sequential()\n",
        "model.add(Conv2D(32,kernel_size=(3,3),activation='relu',input_shape=(224,224,3))) # it is convolutional 2D layer\n",
        "# 32 is number of feature map\n",
        "# the images I am going to pass it will be 224X224 pixels and 3 means RGB image \n",
        "# we are passing the colour image\n",
        "model.add(MaxPooling2D(pool_size=(2,2)))\n",
        "\n",
        "model.add(Conv2D(64,(3,3),activation='relu'))\n",
        "model.add(MaxPooling2D(pool_size=(2,2)))\n",
        "model.add(Dropout(0.25))    # reduce the overfitting\n",
        " \n",
        "model.add(Conv2D(64,(3,3),activation='relu'))\n",
        "model.add(MaxPooling2D(pool_size=(2,2)))\n",
        "model.add(Dropout(0.25))\n",
        " \n",
        "model.add(Conv2D(128,(3,3),activation='relu'))\n",
        "model.add(MaxPooling2D(pool_size=(2,2)))\n",
        "model.add(Dropout(0.25))\n",
        " \n",
        "model.add(Flatten())    # input layer\n",
        "\n",
        "#ANN \n",
        "model.add(Dense(64,activation='relu'))    # hidden layer of ann\n",
        "model.add(Dropout(0.5))\n",
        "model.add(Dense(1,activation='sigmoid'))   # output layer\n",
        "\n",
        "# Compile the model \n",
        "model.compile(loss='binary_crossentropy',optimizer='adam',metrics=['accuracy'])"
      ],
      "execution_count": 4,
      "outputs": []
    },
    {
      "cell_type": "code",
      "metadata": {
        "id": "m8s3I-_HAtGx"
      },
      "source": [
        "#Moulding train images\n",
        "from tensorflow.keras.preprocessing import image\n",
        "train_datagen = image.ImageDataGenerator(rescale = 1./255, shear_range = 0.2,zoom_range = 0.2, horizontal_flip = True)\n",
        " \n",
        "test_dataset = image.ImageDataGenerator(rescale=1./255)"
      ],
      "execution_count": 5,
      "outputs": []
    },
    {
      "cell_type": "code",
      "metadata": {
        "colab": {
          "base_uri": "https://localhost:8080/"
        },
        "id": "6l-95O9zAxGl",
        "outputId": "5e1fc398-1c25-4409-de39-3a4e90b2c84e"
      },
      "source": [
        "#Reshaping test and validation images \n",
        "train_generator = train_datagen.flow_from_directory(\n",
        "    '/content/Covid-19 data/Train',\n",
        "    target_size = (224,224),\n",
        "    batch_size = 32, \n",
        "    class_mode = 'binary')\n",
        "validation_generator = test_dataset.flow_from_directory(\n",
        "    '/content/Covid-19 data/Val',\n",
        "    target_size = (224,224),\n",
        "    batch_size = 32,\n",
        "    class_mode = 'binary')"
      ],
      "execution_count": 6,
      "outputs": [
        {
          "output_type": "stream",
          "name": "stdout",
          "text": [
            "Found 5120 images belonging to 2 classes.\n",
            "Found 112 images belonging to 2 classes.\n"
          ]
        }
      ]
    },
    {
      "cell_type": "code",
      "metadata": {
        "colab": {
          "base_uri": "https://localhost:8080/"
        },
        "id": "gTkM7RZgBEVA",
        "outputId": "478345db-a339-4af3-b9a9-78785b5d2f9c"
      },
      "source": [
        "#### Train the model\n",
        "history = model.fit_generator(\n",
        "    train_generator,\n",
        "    steps_per_epoch=160,\n",
        "    epochs = 10,\n",
        "    validation_data = validation_generator,\n",
        "    validation_steps=1\n",
        ")"
      ],
      "execution_count": 9,
      "outputs": [
        {
          "output_type": "stream",
          "name": "stderr",
          "text": [
            "/usr/local/lib/python3.7/dist-packages/keras/engine/training.py:1972: UserWarning: `Model.fit_generator` is deprecated and will be removed in a future version. Please use `Model.fit`, which supports generators.\n",
            "  warnings.warn('`Model.fit_generator` is deprecated and '\n"
          ]
        },
        {
          "output_type": "stream",
          "name": "stdout",
          "text": [
            "Epoch 1/10\n",
            "160/160 [==============================] - 112s 698ms/step - loss: 0.3061 - accuracy: 0.8621 - val_loss: 0.4669 - val_accuracy: 0.8438\n",
            "Epoch 2/10\n",
            "160/160 [==============================] - 111s 695ms/step - loss: 0.2718 - accuracy: 0.8867 - val_loss: 0.3597 - val_accuracy: 0.8438\n",
            "Epoch 3/10\n",
            "160/160 [==============================] - 111s 695ms/step - loss: 0.2437 - accuracy: 0.9035 - val_loss: 0.2738 - val_accuracy: 0.9375\n",
            "Epoch 4/10\n",
            "160/160 [==============================] - 110s 689ms/step - loss: 0.2187 - accuracy: 0.9170 - val_loss: 0.2998 - val_accuracy: 0.8750\n",
            "Epoch 5/10\n",
            "160/160 [==============================] - 110s 686ms/step - loss: 0.2069 - accuracy: 0.9207 - val_loss: 0.2590 - val_accuracy: 0.8125\n",
            "Epoch 6/10\n",
            "160/160 [==============================] - 117s 731ms/step - loss: 0.2185 - accuracy: 0.9199 - val_loss: 0.2533 - val_accuracy: 0.8750\n",
            "Epoch 7/10\n",
            "160/160 [==============================] - 120s 749ms/step - loss: 0.1927 - accuracy: 0.9309 - val_loss: 0.1187 - val_accuracy: 0.9375\n",
            "Epoch 8/10\n",
            "160/160 [==============================] - 119s 743ms/step - loss: 0.1942 - accuracy: 0.9311 - val_loss: 0.1803 - val_accuracy: 0.9375\n",
            "Epoch 9/10\n",
            "160/160 [==============================] - 115s 717ms/step - loss: 0.1771 - accuracy: 0.9359 - val_loss: 0.5703 - val_accuracy: 0.7812\n",
            "Epoch 10/10\n",
            "160/160 [==============================] - 111s 695ms/step - loss: 0.1917 - accuracy: 0.9357 - val_loss: 0.2568 - val_accuracy: 0.9062\n"
          ]
        }
      ]
    },
    {
      "cell_type": "code",
      "metadata": {
        "id": "PVffx6xFBPFS",
        "colab": {
          "base_uri": "https://localhost:8080/"
        },
        "outputId": "0594af49-71e7-4562-e3c7-d34077ad571d"
      },
      "source": [
        "from tensorflow.keras.preprocessing import image\n",
        "import numpy as np\n",
        "img = image.load_img('/content/Normal.jpeg',target_size=(224,224))\n",
        "img = image.img_to_array(img)\n",
        "img = np.expand_dims(img,axis=0)   ### flattening\n",
        "ypred = model.predict(img)\n",
        "if ypred[0][0] == 1:\n",
        "  print(\"Covid Negative\")\n",
        "else:\n",
        "  print(\"Covid Positive\")"
      ],
      "execution_count": 20,
      "outputs": [
        {
          "output_type": "stream",
          "name": "stdout",
          "text": [
            "Covid Negative\n"
          ]
        }
      ]
    },
    {
      "cell_type": "code",
      "metadata": {
        "id": "ko8M0O_RR6WD",
        "colab": {
          "base_uri": "https://localhost:8080/"
        },
        "outputId": "daf09738-9d6b-4ea6-d612-c10a8871f205"
      },
      "source": [
        "ypred[0][0]"
      ],
      "execution_count": 11,
      "outputs": [
        {
          "output_type": "execute_result",
          "data": {
            "text/plain": [
              "0.0"
            ]
          },
          "metadata": {},
          "execution_count": 11
        }
      ]
    },
    {
      "cell_type": "code",
      "metadata": {
        "id": "Z96vIniPSANr"
      },
      "source": [
        "#### save the model\n",
        "model.save(\"covid_model.h5\")"
      ],
      "execution_count": 12,
      "outputs": []
    },
    {
      "cell_type": "code",
      "metadata": {
        "id": "mZdMtwO-SE6F"
      },
      "source": [
        "import tensorflow.keras as tf\n",
        "mymodel = tf.models.load_model(\"/content/covid_model.h5\")"
      ],
      "execution_count": 13,
      "outputs": []
    },
    {
      "cell_type": "code",
      "metadata": {
        "id": "xzNvzNE0SJ9O",
        "colab": {
          "base_uri": "https://localhost:8080/"
        },
        "outputId": "5dff63ad-7f42-4aa9-d3f0-77aa28d45757"
      },
      "source": [
        "from tensorflow.keras.preprocessing import image\n",
        "import numpy as np\n",
        "img = image.load_img('/content/covid.jpg',target_size=(224,224))\n",
        "img = image.img_to_array(img)\n",
        "img = np.expand_dims(img,axis=0)   ### flattening\n",
        "ypred = mymodel.predict(img)\n",
        "if ypred[0][0] == 1:\n",
        "  print(\"Covid Negative\")\n",
        "else:\n",
        "  print(\"Covid Positive\")"
      ],
      "execution_count": 14,
      "outputs": [
        {
          "output_type": "stream",
          "name": "stdout",
          "text": [
            "Covid Positive\n"
          ]
        }
      ]
    }
  ]
}
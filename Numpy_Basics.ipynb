{
  "nbformat": 4,
  "nbformat_minor": 0,
  "metadata": {
    "colab": {
      "name": "1st  Sep Numpy Basics.ipynb",
      "provenance": []
    },
    "kernelspec": {
      "name": "python3",
      "display_name": "Python 3"
    },
    "language_info": {
      "name": "python"
    }
  },
  "cells": [
    {
      "cell_type": "code",
      "metadata": {
        "id": "vJE6A3maMZAx"
      },
      "source": [
        "import numpy as np"
      ],
      "execution_count": null,
      "outputs": []
    },
    {
      "cell_type": "code",
      "metadata": {
        "id": "0bDHFXeSOq6O"
      },
      "source": [
        "#simpal Array[2D Array]"
      ],
      "execution_count": null,
      "outputs": []
    },
    {
      "cell_type": "code",
      "metadata": {
        "colab": {
          "base_uri": "https://localhost:8080/"
        },
        "id": "yFZ2k3lgO66m",
        "outputId": "9b40efa0-83fd-4697-a9d0-33219360ae3d"
      },
      "source": [
        "a1 = np.array([[4,5,7],[2,3,4],[1,9,6]])\n",
        "a1"
      ],
      "execution_count": null,
      "outputs": [
        {
          "output_type": "execute_result",
          "data": {
            "text/plain": [
              "array([[4, 5, 7],\n",
              "       [2, 3, 4],\n",
              "       [1, 9, 6]])"
            ]
          },
          "metadata": {},
          "execution_count": 5
        }
      ]
    },
    {
      "cell_type": "code",
      "metadata": {
        "colab": {
          "base_uri": "https://localhost:8080/"
        },
        "id": "UZqJ5MazPsnn",
        "outputId": "d097d4e1-c4fc-4cea-aec0-f7008171c498"
      },
      "source": [
        "a1.shape"
      ],
      "execution_count": null,
      "outputs": [
        {
          "output_type": "execute_result",
          "data": {
            "text/plain": [
              "(3, 3)"
            ]
          },
          "metadata": {},
          "execution_count": 6
        }
      ]
    },
    {
      "cell_type": "code",
      "metadata": {
        "colab": {
          "base_uri": "https://localhost:8080/"
        },
        "id": "vWE1LNFSPzD9",
        "outputId": "aa84360e-2f16-406e-b11f-fa80a8c64b47"
      },
      "source": [
        "a1.ndim #gives you dimention"
      ],
      "execution_count": null,
      "outputs": [
        {
          "output_type": "execute_result",
          "data": {
            "text/plain": [
              "2"
            ]
          },
          "metadata": {},
          "execution_count": 8
        }
      ]
    },
    {
      "cell_type": "code",
      "metadata": {
        "colab": {
          "base_uri": "https://localhost:8080/"
        },
        "id": "EB8JW7E_QHf3",
        "outputId": "5b0c28f7-4afc-4320-f24b-4e449a0221c2"
      },
      "source": [
        "a1.dtype #type of data"
      ],
      "execution_count": null,
      "outputs": [
        {
          "output_type": "execute_result",
          "data": {
            "text/plain": [
              "dtype('int64')"
            ]
          },
          "metadata": {},
          "execution_count": 9
        }
      ]
    },
    {
      "cell_type": "code",
      "metadata": {
        "colab": {
          "base_uri": "https://localhost:8080/"
        },
        "id": "HmsDhqhoQPi4",
        "outputId": "95d8ca04-b4dd-4454-e848-b4833be04b04"
      },
      "source": [
        "a1.max()"
      ],
      "execution_count": null,
      "outputs": [
        {
          "output_type": "execute_result",
          "data": {
            "text/plain": [
              "9"
            ]
          },
          "metadata": {},
          "execution_count": 11
        }
      ]
    },
    {
      "cell_type": "code",
      "metadata": {
        "colab": {
          "base_uri": "https://localhost:8080/"
        },
        "id": "EbfTRWQ1Qhfa",
        "outputId": "665ab75c-0d65-4379-8492-8d6ae5004a9c"
      },
      "source": [
        "a1.min()"
      ],
      "execution_count": null,
      "outputs": [
        {
          "output_type": "execute_result",
          "data": {
            "text/plain": [
              "1"
            ]
          },
          "metadata": {},
          "execution_count": 12
        }
      ]
    },
    {
      "cell_type": "code",
      "metadata": {
        "colab": {
          "base_uri": "https://localhost:8080/"
        },
        "id": "KS8MgWFgQkEs",
        "outputId": "2ea1ec1d-7d58-44ba-a9cf-50c0178372c3"
      },
      "source": [
        "a1"
      ],
      "execution_count": null,
      "outputs": [
        {
          "output_type": "execute_result",
          "data": {
            "text/plain": [
              "array([[4, 5, 7],\n",
              "       [2, 3, 4],\n",
              "       [1, 9, 6]])"
            ]
          },
          "metadata": {},
          "execution_count": 13
        }
      ]
    },
    {
      "cell_type": "code",
      "metadata": {
        "colab": {
          "base_uri": "https://localhost:8080/"
        },
        "id": "CxzBQwV0Qlpu",
        "outputId": "7c58ff39-2cdc-4d4f-c100-43865388fc0a"
      },
      "source": [
        "a1.argmax() #location of max num"
      ],
      "execution_count": null,
      "outputs": [
        {
          "output_type": "execute_result",
          "data": {
            "text/plain": [
              "7"
            ]
          },
          "metadata": {},
          "execution_count": 17
        }
      ]
    },
    {
      "cell_type": "code",
      "metadata": {
        "colab": {
          "base_uri": "https://localhost:8080/"
        },
        "id": "wXXVLoVfQs60",
        "outputId": "88b078d1-08cc-43dd-d6dd-e0910c043559"
      },
      "source": [
        "a1.argmin() #location of min num"
      ],
      "execution_count": null,
      "outputs": [
        {
          "output_type": "execute_result",
          "data": {
            "text/plain": [
              "6"
            ]
          },
          "metadata": {},
          "execution_count": 18
        }
      ]
    },
    {
      "cell_type": "code",
      "metadata": {
        "colab": {
          "base_uri": "https://localhost:8080/"
        },
        "id": "dJGMsF3XQ-Ri",
        "outputId": "75868998-bbbd-49d7-e700-e6685dbeb739"
      },
      "source": [
        "a1.sum() #sum of all the elements"
      ],
      "execution_count": null,
      "outputs": [
        {
          "output_type": "execute_result",
          "data": {
            "text/plain": [
              "41"
            ]
          },
          "metadata": {},
          "execution_count": 20
        }
      ]
    },
    {
      "cell_type": "code",
      "metadata": {
        "colab": {
          "base_uri": "https://localhost:8080/"
        },
        "id": "SdRVnph7RQPw",
        "outputId": "bd5a713d-74be-4508-f0b8-fbe97ad0d520"
      },
      "source": [
        "a1.sum(axis =0) #column wise addition"
      ],
      "execution_count": null,
      "outputs": [
        {
          "output_type": "execute_result",
          "data": {
            "text/plain": [
              "array([ 7, 17, 17])"
            ]
          },
          "metadata": {},
          "execution_count": 21
        }
      ]
    },
    {
      "cell_type": "code",
      "metadata": {
        "colab": {
          "base_uri": "https://localhost:8080/"
        },
        "id": "VWp0HPXXRfPy",
        "outputId": "60bb9079-4d75-4045-f272-ea6554451324"
      },
      "source": [
        "a1.sum(axis = 1) #row wise addition"
      ],
      "execution_count": null,
      "outputs": [
        {
          "output_type": "execute_result",
          "data": {
            "text/plain": [
              "array([16,  9, 16])"
            ]
          },
          "metadata": {},
          "execution_count": 22
        }
      ]
    },
    {
      "cell_type": "code",
      "metadata": {
        "id": "e2cxmOYMRt2e"
      },
      "source": [
        "# picking any element from array (slicing of array)"
      ],
      "execution_count": null,
      "outputs": []
    },
    {
      "cell_type": "code",
      "metadata": {
        "colab": {
          "base_uri": "https://localhost:8080/"
        },
        "id": "nGvhlmaiSLKW",
        "outputId": "c3fa289a-3f43-440e-fdf7-d4316edc8e2b"
      },
      "source": [
        "a1[2]"
      ],
      "execution_count": null,
      "outputs": [
        {
          "output_type": "execute_result",
          "data": {
            "text/plain": [
              "array([1, 9, 6])"
            ]
          },
          "metadata": {},
          "execution_count": 26
        }
      ]
    },
    {
      "cell_type": "code",
      "metadata": {
        "colab": {
          "base_uri": "https://localhost:8080/"
        },
        "id": "iSheJInASSnk",
        "outputId": "25a4c700-8d45-46eb-e23d-dc63367dc946"
      },
      "source": [
        "a1[:] "
      ],
      "execution_count": null,
      "outputs": [
        {
          "output_type": "execute_result",
          "data": {
            "text/plain": [
              "array([[4, 5, 7],\n",
              "       [2, 3, 4],\n",
              "       [1, 9, 6]])"
            ]
          },
          "metadata": {},
          "execution_count": 27
        }
      ]
    },
    {
      "cell_type": "code",
      "metadata": {
        "colab": {
          "base_uri": "https://localhost:8080/"
        },
        "id": "TtZYCm_aSmID",
        "outputId": "77c8be8f-ffb6-4ea3-9030-05ef21a2ffb5"
      },
      "source": [
        "a1[2:3] #index num 1 to index 2 "
      ],
      "execution_count": null,
      "outputs": [
        {
          "output_type": "execute_result",
          "data": {
            "text/plain": [
              "array([[1, 9, 6]])"
            ]
          },
          "metadata": {},
          "execution_count": 28
        }
      ]
    },
    {
      "cell_type": "code",
      "metadata": {
        "colab": {
          "base_uri": "https://localhost:8080/"
        },
        "id": "y7mgL1R6SyYj",
        "outputId": "e12c7f76-5c4b-4209-a870-97c79073cdc0"
      },
      "source": [
        "a1[:3]"
      ],
      "execution_count": null,
      "outputs": [
        {
          "output_type": "execute_result",
          "data": {
            "text/plain": [
              "array([[4, 5, 7],\n",
              "       [2, 3, 4],\n",
              "       [1, 9, 6]])"
            ]
          },
          "metadata": {},
          "execution_count": 29
        }
      ]
    },
    {
      "cell_type": "code",
      "metadata": {
        "colab": {
          "base_uri": "https://localhost:8080/"
        },
        "id": "cVcnAcuUTGSE",
        "outputId": "27d89aaf-fd1f-4d85-80b8-afcae47817a3"
      },
      "source": [
        "a1[1]"
      ],
      "execution_count": null,
      "outputs": [
        {
          "output_type": "execute_result",
          "data": {
            "text/plain": [
              "array([2, 3, 4])"
            ]
          },
          "metadata": {},
          "execution_count": 30
        }
      ]
    },
    {
      "cell_type": "code",
      "metadata": {
        "colab": {
          "base_uri": "https://localhost:8080/"
        },
        "id": "ns7CmjA2S2uX",
        "outputId": "9e662354-ca67-484f-b8a3-2d4a097affee"
      },
      "source": [
        "a1[1][1]"
      ],
      "execution_count": null,
      "outputs": [
        {
          "output_type": "execute_result",
          "data": {
            "text/plain": [
              "3"
            ]
          },
          "metadata": {},
          "execution_count": 31
        }
      ]
    },
    {
      "cell_type": "code",
      "metadata": {
        "colab": {
          "base_uri": "https://localhost:8080/"
        },
        "id": "ND7QbRC4TQsG",
        "outputId": "5a066a20-a593-43fc-97c3-bed4b5587605"
      },
      "source": [
        "a1[1:4,1:3]"
      ],
      "execution_count": null,
      "outputs": [
        {
          "output_type": "execute_result",
          "data": {
            "text/plain": [
              "array([[3, 4],\n",
              "       [9, 6]])"
            ]
          },
          "metadata": {},
          "execution_count": 32
        }
      ]
    },
    {
      "cell_type": "code",
      "metadata": {
        "id": "z8Fj_2ttT9hE"
      },
      "source": [
        "# linspace function\n",
        "# used to generate equidistant number\n",
        "# here we don't have infinite range \n",
        "#  here we can fix the range whatever we want to take"
      ],
      "execution_count": null,
      "outputs": []
    },
    {
      "cell_type": "code",
      "metadata": {
        "colab": {
          "base_uri": "https://localhost:8080/"
        },
        "id": "E_jWrXJJVdPf",
        "outputId": "32ce56a7-eae1-45e3-a9e0-7aa25402fdff"
      },
      "source": [
        "a2 = np.linspace(1,100,30) #first 2 is range and third one is number of sample I want\n",
        "a2"
      ],
      "execution_count": null,
      "outputs": [
        {
          "output_type": "execute_result",
          "data": {
            "text/plain": [
              "array([  1.        ,   4.4137931 ,   7.82758621,  11.24137931,\n",
              "        14.65517241,  18.06896552,  21.48275862,  24.89655172,\n",
              "        28.31034483,  31.72413793,  35.13793103,  38.55172414,\n",
              "        41.96551724,  45.37931034,  48.79310345,  52.20689655,\n",
              "        55.62068966,  59.03448276,  62.44827586,  65.86206897,\n",
              "        69.27586207,  72.68965517,  76.10344828,  79.51724138,\n",
              "        82.93103448,  86.34482759,  89.75862069,  93.17241379,\n",
              "        96.5862069 , 100.        ])"
            ]
          },
          "metadata": {},
          "execution_count": 35
        }
      ]
    },
    {
      "cell_type": "code",
      "metadata": {
        "colab": {
          "base_uri": "https://localhost:8080/"
        },
        "id": "4qdmFZ1UWC74",
        "outputId": "dcdd4af1-f79a-4877-c247-38f2114a8647"
      },
      "source": [
        "a2 = np.linspace(1,100,10)\n",
        "a2"
      ],
      "execution_count": null,
      "outputs": [
        {
          "output_type": "execute_result",
          "data": {
            "text/plain": [
              "array([  1.,  12.,  23.,  34.,  45.,  56.,  67.,  78.,  89., 100.])"
            ]
          },
          "metadata": {},
          "execution_count": 36
        }
      ]
    },
    {
      "cell_type": "code",
      "metadata": {
        "colab": {
          "base_uri": "https://localhost:8080/"
        },
        "id": "x3Ep5IXZXdgR",
        "outputId": "e710a287-0b7d-45c1-a7ed-d4250ba9e6b5"
      },
      "source": [
        "a2 = np.linspace(1,100,30)\n",
        "a2 = a2.astype('int')\n",
        "a2"
      ],
      "execution_count": null,
      "outputs": [
        {
          "output_type": "execute_result",
          "data": {
            "text/plain": [
              "array([  1,   4,   7,  11,  14,  18,  21,  24,  28,  31,  35,  38,  41,\n",
              "        45,  48,  52,  55,  59,  62,  65,  69,  72,  76,  79,  82,  86,\n",
              "        89,  93,  96, 100])"
            ]
          },
          "metadata": {},
          "execution_count": 39
        }
      ]
    },
    {
      "cell_type": "code",
      "metadata": {
        "colab": {
          "base_uri": "https://localhost:8080/"
        },
        "id": "hl_Z3V8WWz5T",
        "outputId": "84c1a414-bd02-4932-c667-ce455a957e6e"
      },
      "source": [
        "# Arange Function \n",
        "# I can define the distance of the samples\n",
        "a3 = np.arange(1,100,5) # first 2 is range and 3rd one is distance between 2 num \n",
        "a3"
      ],
      "execution_count": null,
      "outputs": [
        {
          "output_type": "execute_result",
          "data": {
            "text/plain": [
              "array([ 1,  6, 11, 16, 21, 26, 31, 36, 41, 46, 51, 56, 61, 66, 71, 76, 81,\n",
              "       86, 91, 96])"
            ]
          },
          "metadata": {},
          "execution_count": 41
        }
      ]
    },
    {
      "cell_type": "code",
      "metadata": {
        "colab": {
          "base_uri": "https://localhost:8080/"
        },
        "id": "rnATbtIPYWzn",
        "outputId": "a6612d84-2c9e-4808-abd5-64e1c2ebf01c"
      },
      "source": [
        "len(a3) #count of data"
      ],
      "execution_count": null,
      "outputs": [
        {
          "output_type": "execute_result",
          "data": {
            "text/plain": [
              "20"
            ]
          },
          "metadata": {},
          "execution_count": 42
        }
      ]
    },
    {
      "cell_type": "code",
      "metadata": {
        "colab": {
          "base_uri": "https://localhost:8080/"
        },
        "id": "Uq0bAn0WYrdn",
        "outputId": "3db28e0d-d542-4788-928a-6729e0d14eeb"
      },
      "source": [
        "# Rendom Number\n",
        "np.random.randint(100)  #any random number between  1 to 99\n"
      ],
      "execution_count": null,
      "outputs": [
        {
          "output_type": "execute_result",
          "data": {
            "text/plain": [
              "67"
            ]
          },
          "metadata": {},
          "execution_count": 44
        }
      ]
    },
    {
      "cell_type": "code",
      "metadata": {
        "colab": {
          "base_uri": "https://localhost:8080/"
        },
        "id": "BWrbXz3-ZG7s",
        "outputId": "0bbebc44-81f7-41e2-ae50-f2a262dc6dc5"
      },
      "source": [
        "# to fix this random number once it is generated \n",
        "np.random.seed(1) # this is kind of memory\n",
        "np.random.randint(100)"
      ],
      "execution_count": null,
      "outputs": [
        {
          "output_type": "execute_result",
          "data": {
            "text/plain": [
              "37"
            ]
          },
          "metadata": {},
          "execution_count": 53
        }
      ]
    },
    {
      "cell_type": "code",
      "metadata": {
        "colab": {
          "base_uri": "https://localhost:8080/"
        },
        "id": "eZIxEyNlZ0bO",
        "outputId": "63b7a4b7-3b3d-4909-f1eb-16088aea7a6d"
      },
      "source": [
        "# want to get more than 1 num \n",
        "np.random.randint(10,100,20) #3rd is num of elements"
      ],
      "execution_count": null,
      "outputs": [
        {
          "output_type": "execute_result",
          "data": {
            "text/plain": [
              "array([78, 97, 97, 96, 23, 19, 17, 73, 71, 32, 67, 11, 10, 70, 91, 18, 98,\n",
              "       23, 57, 82])"
            ]
          },
          "metadata": {},
          "execution_count": 56
        }
      ]
    },
    {
      "cell_type": "code",
      "metadata": {
        "colab": {
          "base_uri": "https://localhost:8080/"
        },
        "id": "_VodSHRsbR-Q",
        "outputId": "45be8466-38fd-45e7-fc27-ff4e28042567"
      },
      "source": [
        "np.random.randint(10,100,(4,5)) #want to get in array #random array"
      ],
      "execution_count": null,
      "outputs": [
        {
          "output_type": "execute_result",
          "data": {
            "text/plain": [
              "array([[35, 97, 17, 36, 35],\n",
              "       [32, 19, 77, 33, 37],\n",
              "       [47, 67, 93, 48, 18],\n",
              "       [42, 44, 20, 33, 25]])"
            ]
          },
          "metadata": {},
          "execution_count": 58
        }
      ]
    },
    {
      "cell_type": "code",
      "metadata": {
        "id": "ompk-ds_bb48"
      },
      "source": [
        ""
      ],
      "execution_count": null,
      "outputs": []
    }
  ]
}
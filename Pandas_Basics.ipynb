{
  "nbformat": 4,
  "nbformat_minor": 0,
  "metadata": {
    "colab": {
      "name": "1st Sep Pandas Basics.ipynb",
      "provenance": [],
      "collapsed_sections": []
    },
    "kernelspec": {
      "name": "python3",
      "display_name": "Python 3"
    },
    "language_info": {
      "name": "python"
    }
  },
  "cells": [
    {
      "cell_type": "code",
      "metadata": {
        "id": "r7bMYyhrcKav"
      },
      "source": [
        "import pandas as pd"
      ],
      "execution_count": null,
      "outputs": []
    },
    {
      "cell_type": "code",
      "metadata": {
        "colab": {
          "base_uri": "https://localhost:8080/",
          "height": 417
        },
        "id": "yP0AUhHGvnRi",
        "outputId": "915ddbf0-a430-4d85-981c-a7f7b3a61e85"
      },
      "source": [
        "#import .csv file\n",
        "data = pd.read_csv(\"/content/employees.csv\")    #Is a function of pandas which is used to import or read the csv file\n",
        "data"
      ],
      "execution_count": null,
      "outputs": [
        {
          "output_type": "execute_result",
          "data": {
            "text/html": [
              "<div>\n",
              "<style scoped>\n",
              "    .dataframe tbody tr th:only-of-type {\n",
              "        vertical-align: middle;\n",
              "    }\n",
              "\n",
              "    .dataframe tbody tr th {\n",
              "        vertical-align: top;\n",
              "    }\n",
              "\n",
              "    .dataframe thead th {\n",
              "        text-align: right;\n",
              "    }\n",
              "</style>\n",
              "<table border=\"1\" class=\"dataframe\">\n",
              "  <thead>\n",
              "    <tr style=\"text-align: right;\">\n",
              "      <th></th>\n",
              "      <th>First Name</th>\n",
              "      <th>Gender</th>\n",
              "      <th>Start Date</th>\n",
              "      <th>Last Login Time</th>\n",
              "      <th>Salary</th>\n",
              "      <th>Bonus %</th>\n",
              "      <th>Senior Management</th>\n",
              "      <th>Team</th>\n",
              "    </tr>\n",
              "  </thead>\n",
              "  <tbody>\n",
              "    <tr>\n",
              "      <th>0</th>\n",
              "      <td>Douglas</td>\n",
              "      <td>Male</td>\n",
              "      <td>8/6/1993</td>\n",
              "      <td>12:42 PM</td>\n",
              "      <td>97308</td>\n",
              "      <td>6.945</td>\n",
              "      <td>True</td>\n",
              "      <td>Marketing</td>\n",
              "    </tr>\n",
              "    <tr>\n",
              "      <th>1</th>\n",
              "      <td>Thomas</td>\n",
              "      <td>Male</td>\n",
              "      <td>3/31/1996</td>\n",
              "      <td>6:53 AM</td>\n",
              "      <td>61933</td>\n",
              "      <td>4.170</td>\n",
              "      <td>True</td>\n",
              "      <td>NaN</td>\n",
              "    </tr>\n",
              "    <tr>\n",
              "      <th>2</th>\n",
              "      <td>Maria</td>\n",
              "      <td>Female</td>\n",
              "      <td>4/23/1993</td>\n",
              "      <td>11:17 AM</td>\n",
              "      <td>130590</td>\n",
              "      <td>11.858</td>\n",
              "      <td>False</td>\n",
              "      <td>Finance</td>\n",
              "    </tr>\n",
              "    <tr>\n",
              "      <th>3</th>\n",
              "      <td>Jerry</td>\n",
              "      <td>Male</td>\n",
              "      <td>3/4/2005</td>\n",
              "      <td>1:00 PM</td>\n",
              "      <td>138705</td>\n",
              "      <td>9.340</td>\n",
              "      <td>True</td>\n",
              "      <td>Finance</td>\n",
              "    </tr>\n",
              "    <tr>\n",
              "      <th>4</th>\n",
              "      <td>Larry</td>\n",
              "      <td>Male</td>\n",
              "      <td>1/24/1998</td>\n",
              "      <td>4:47 PM</td>\n",
              "      <td>101004</td>\n",
              "      <td>1.389</td>\n",
              "      <td>True</td>\n",
              "      <td>Client Services</td>\n",
              "    </tr>\n",
              "    <tr>\n",
              "      <th>...</th>\n",
              "      <td>...</td>\n",
              "      <td>...</td>\n",
              "      <td>...</td>\n",
              "      <td>...</td>\n",
              "      <td>...</td>\n",
              "      <td>...</td>\n",
              "      <td>...</td>\n",
              "      <td>...</td>\n",
              "    </tr>\n",
              "    <tr>\n",
              "      <th>995</th>\n",
              "      <td>Henry</td>\n",
              "      <td>NaN</td>\n",
              "      <td>11/23/2014</td>\n",
              "      <td>6:09 AM</td>\n",
              "      <td>132483</td>\n",
              "      <td>16.655</td>\n",
              "      <td>False</td>\n",
              "      <td>Distribution</td>\n",
              "    </tr>\n",
              "    <tr>\n",
              "      <th>996</th>\n",
              "      <td>Phillip</td>\n",
              "      <td>Male</td>\n",
              "      <td>1/31/1984</td>\n",
              "      <td>6:30 AM</td>\n",
              "      <td>42392</td>\n",
              "      <td>19.675</td>\n",
              "      <td>False</td>\n",
              "      <td>Finance</td>\n",
              "    </tr>\n",
              "    <tr>\n",
              "      <th>997</th>\n",
              "      <td>Russell</td>\n",
              "      <td>Male</td>\n",
              "      <td>5/20/2013</td>\n",
              "      <td>12:39 PM</td>\n",
              "      <td>96914</td>\n",
              "      <td>1.421</td>\n",
              "      <td>False</td>\n",
              "      <td>Product</td>\n",
              "    </tr>\n",
              "    <tr>\n",
              "      <th>998</th>\n",
              "      <td>Larry</td>\n",
              "      <td>Male</td>\n",
              "      <td>4/20/2013</td>\n",
              "      <td>4:45 PM</td>\n",
              "      <td>60500</td>\n",
              "      <td>11.985</td>\n",
              "      <td>False</td>\n",
              "      <td>Business Development</td>\n",
              "    </tr>\n",
              "    <tr>\n",
              "      <th>999</th>\n",
              "      <td>Albert</td>\n",
              "      <td>Male</td>\n",
              "      <td>5/15/2012</td>\n",
              "      <td>6:24 PM</td>\n",
              "      <td>129949</td>\n",
              "      <td>10.169</td>\n",
              "      <td>True</td>\n",
              "      <td>Sales</td>\n",
              "    </tr>\n",
              "  </tbody>\n",
              "</table>\n",
              "<p>1000 rows × 8 columns</p>\n",
              "</div>"
            ],
            "text/plain": [
              "    First Name  Gender  ... Senior Management                  Team\n",
              "0      Douglas    Male  ...              True             Marketing\n",
              "1       Thomas    Male  ...              True                   NaN\n",
              "2        Maria  Female  ...             False               Finance\n",
              "3        Jerry    Male  ...              True               Finance\n",
              "4        Larry    Male  ...              True       Client Services\n",
              "..         ...     ...  ...               ...                   ...\n",
              "995      Henry     NaN  ...             False          Distribution\n",
              "996    Phillip    Male  ...             False               Finance\n",
              "997    Russell    Male  ...             False               Product\n",
              "998      Larry    Male  ...             False  Business Development\n",
              "999     Albert    Male  ...              True                 Sales\n",
              "\n",
              "[1000 rows x 8 columns]"
            ]
          },
          "metadata": {},
          "execution_count": 110
        }
      ]
    },
    {
      "cell_type": "code",
      "metadata": {
        "colab": {
          "base_uri": "https://localhost:8080/"
        },
        "id": "WYXgiqMJwcxV",
        "outputId": "93c7eb21-1036-44e4-8454-8e7e2fd0c35d"
      },
      "source": [
        "type (data) #here type dataframe is a tebular kide of data which actule look like table"
      ],
      "execution_count": null,
      "outputs": [
        {
          "output_type": "execute_result",
          "data": {
            "text/plain": [
              "pandas.core.frame.DataFrame"
            ]
          },
          "metadata": {},
          "execution_count": 111
        }
      ]
    },
    {
      "cell_type": "code",
      "metadata": {
        "colab": {
          "base_uri": "https://localhost:8080/"
        },
        "id": "fvv8TlxvxWJa",
        "outputId": "6a5a1514-7b79-4c67-ef77-443e3db814e2"
      },
      "source": [
        "len(data)"
      ],
      "execution_count": null,
      "outputs": [
        {
          "output_type": "execute_result",
          "data": {
            "text/plain": [
              "1000"
            ]
          },
          "metadata": {},
          "execution_count": 112
        }
      ]
    },
    {
      "cell_type": "code",
      "metadata": {
        "colab": {
          "base_uri": "https://localhost:8080/"
        },
        "id": "v96tXhL-x-1Q",
        "outputId": "81a4f752-7514-421f-d600-b5ff0cc33468"
      },
      "source": [
        "data.info()"
      ],
      "execution_count": null,
      "outputs": [
        {
          "output_type": "stream",
          "name": "stdout",
          "text": [
            "<class 'pandas.core.frame.DataFrame'>\n",
            "RangeIndex: 1000 entries, 0 to 999\n",
            "Data columns (total 8 columns):\n",
            " #   Column             Non-Null Count  Dtype  \n",
            "---  ------             --------------  -----  \n",
            " 0   First Name         933 non-null    object \n",
            " 1   Gender             855 non-null    object \n",
            " 2   Start Date         1000 non-null   object \n",
            " 3   Last Login Time    1000 non-null   object \n",
            " 4   Salary             1000 non-null   int64  \n",
            " 5   Bonus %            1000 non-null   float64\n",
            " 6   Senior Management  933 non-null    object \n",
            " 7   Team               957 non-null    object \n",
            "dtypes: float64(1), int64(1), object(6)\n",
            "memory usage: 62.6+ KB\n"
          ]
        }
      ]
    },
    {
      "cell_type": "code",
      "metadata": {
        "colab": {
          "base_uri": "https://localhost:8080/",
          "height": 203
        },
        "id": "eI0lABHey3Fa",
        "outputId": "95c3e140-c261-4243-d873-6f14f5e2f6d5"
      },
      "source": [
        "data.head() # it will print first 5 rows of data"
      ],
      "execution_count": null,
      "outputs": [
        {
          "output_type": "execute_result",
          "data": {
            "text/html": [
              "<div>\n",
              "<style scoped>\n",
              "    .dataframe tbody tr th:only-of-type {\n",
              "        vertical-align: middle;\n",
              "    }\n",
              "\n",
              "    .dataframe tbody tr th {\n",
              "        vertical-align: top;\n",
              "    }\n",
              "\n",
              "    .dataframe thead th {\n",
              "        text-align: right;\n",
              "    }\n",
              "</style>\n",
              "<table border=\"1\" class=\"dataframe\">\n",
              "  <thead>\n",
              "    <tr style=\"text-align: right;\">\n",
              "      <th></th>\n",
              "      <th>First Name</th>\n",
              "      <th>Gender</th>\n",
              "      <th>Start Date</th>\n",
              "      <th>Last Login Time</th>\n",
              "      <th>Salary</th>\n",
              "      <th>Bonus %</th>\n",
              "      <th>Senior Management</th>\n",
              "      <th>Team</th>\n",
              "    </tr>\n",
              "  </thead>\n",
              "  <tbody>\n",
              "    <tr>\n",
              "      <th>0</th>\n",
              "      <td>Douglas</td>\n",
              "      <td>Male</td>\n",
              "      <td>8/6/1993</td>\n",
              "      <td>12:42 PM</td>\n",
              "      <td>97308</td>\n",
              "      <td>6.945</td>\n",
              "      <td>True</td>\n",
              "      <td>Marketing</td>\n",
              "    </tr>\n",
              "    <tr>\n",
              "      <th>1</th>\n",
              "      <td>Thomas</td>\n",
              "      <td>Male</td>\n",
              "      <td>3/31/1996</td>\n",
              "      <td>6:53 AM</td>\n",
              "      <td>61933</td>\n",
              "      <td>4.170</td>\n",
              "      <td>True</td>\n",
              "      <td>NaN</td>\n",
              "    </tr>\n",
              "    <tr>\n",
              "      <th>2</th>\n",
              "      <td>Maria</td>\n",
              "      <td>Female</td>\n",
              "      <td>4/23/1993</td>\n",
              "      <td>11:17 AM</td>\n",
              "      <td>130590</td>\n",
              "      <td>11.858</td>\n",
              "      <td>False</td>\n",
              "      <td>Finance</td>\n",
              "    </tr>\n",
              "    <tr>\n",
              "      <th>3</th>\n",
              "      <td>Jerry</td>\n",
              "      <td>Male</td>\n",
              "      <td>3/4/2005</td>\n",
              "      <td>1:00 PM</td>\n",
              "      <td>138705</td>\n",
              "      <td>9.340</td>\n",
              "      <td>True</td>\n",
              "      <td>Finance</td>\n",
              "    </tr>\n",
              "    <tr>\n",
              "      <th>4</th>\n",
              "      <td>Larry</td>\n",
              "      <td>Male</td>\n",
              "      <td>1/24/1998</td>\n",
              "      <td>4:47 PM</td>\n",
              "      <td>101004</td>\n",
              "      <td>1.389</td>\n",
              "      <td>True</td>\n",
              "      <td>Client Services</td>\n",
              "    </tr>\n",
              "  </tbody>\n",
              "</table>\n",
              "</div>"
            ],
            "text/plain": [
              "  First Name  Gender Start Date  ... Bonus %  Senior Management             Team\n",
              "0    Douglas    Male   8/6/1993  ...   6.945               True        Marketing\n",
              "1     Thomas    Male  3/31/1996  ...   4.170               True              NaN\n",
              "2      Maria  Female  4/23/1993  ...  11.858              False          Finance\n",
              "3      Jerry    Male   3/4/2005  ...   9.340               True          Finance\n",
              "4      Larry    Male  1/24/1998  ...   1.389               True  Client Services\n",
              "\n",
              "[5 rows x 8 columns]"
            ]
          },
          "metadata": {},
          "execution_count": 114
        }
      ]
    },
    {
      "cell_type": "code",
      "metadata": {
        "colab": {
          "base_uri": "https://localhost:8080/",
          "height": 203
        },
        "id": "Esu1y-SEzxjH",
        "outputId": "704954d7-2b14-4e82-a4f1-016cce9bc6cf"
      },
      "source": [
        "data.tail() #it will print last 5 rows of data"
      ],
      "execution_count": null,
      "outputs": [
        {
          "output_type": "execute_result",
          "data": {
            "text/html": [
              "<div>\n",
              "<style scoped>\n",
              "    .dataframe tbody tr th:only-of-type {\n",
              "        vertical-align: middle;\n",
              "    }\n",
              "\n",
              "    .dataframe tbody tr th {\n",
              "        vertical-align: top;\n",
              "    }\n",
              "\n",
              "    .dataframe thead th {\n",
              "        text-align: right;\n",
              "    }\n",
              "</style>\n",
              "<table border=\"1\" class=\"dataframe\">\n",
              "  <thead>\n",
              "    <tr style=\"text-align: right;\">\n",
              "      <th></th>\n",
              "      <th>First Name</th>\n",
              "      <th>Gender</th>\n",
              "      <th>Start Date</th>\n",
              "      <th>Last Login Time</th>\n",
              "      <th>Salary</th>\n",
              "      <th>Bonus %</th>\n",
              "      <th>Senior Management</th>\n",
              "      <th>Team</th>\n",
              "    </tr>\n",
              "  </thead>\n",
              "  <tbody>\n",
              "    <tr>\n",
              "      <th>995</th>\n",
              "      <td>Henry</td>\n",
              "      <td>NaN</td>\n",
              "      <td>11/23/2014</td>\n",
              "      <td>6:09 AM</td>\n",
              "      <td>132483</td>\n",
              "      <td>16.655</td>\n",
              "      <td>False</td>\n",
              "      <td>Distribution</td>\n",
              "    </tr>\n",
              "    <tr>\n",
              "      <th>996</th>\n",
              "      <td>Phillip</td>\n",
              "      <td>Male</td>\n",
              "      <td>1/31/1984</td>\n",
              "      <td>6:30 AM</td>\n",
              "      <td>42392</td>\n",
              "      <td>19.675</td>\n",
              "      <td>False</td>\n",
              "      <td>Finance</td>\n",
              "    </tr>\n",
              "    <tr>\n",
              "      <th>997</th>\n",
              "      <td>Russell</td>\n",
              "      <td>Male</td>\n",
              "      <td>5/20/2013</td>\n",
              "      <td>12:39 PM</td>\n",
              "      <td>96914</td>\n",
              "      <td>1.421</td>\n",
              "      <td>False</td>\n",
              "      <td>Product</td>\n",
              "    </tr>\n",
              "    <tr>\n",
              "      <th>998</th>\n",
              "      <td>Larry</td>\n",
              "      <td>Male</td>\n",
              "      <td>4/20/2013</td>\n",
              "      <td>4:45 PM</td>\n",
              "      <td>60500</td>\n",
              "      <td>11.985</td>\n",
              "      <td>False</td>\n",
              "      <td>Business Development</td>\n",
              "    </tr>\n",
              "    <tr>\n",
              "      <th>999</th>\n",
              "      <td>Albert</td>\n",
              "      <td>Male</td>\n",
              "      <td>5/15/2012</td>\n",
              "      <td>6:24 PM</td>\n",
              "      <td>129949</td>\n",
              "      <td>10.169</td>\n",
              "      <td>True</td>\n",
              "      <td>Sales</td>\n",
              "    </tr>\n",
              "  </tbody>\n",
              "</table>\n",
              "</div>"
            ],
            "text/plain": [
              "    First Name Gender  ... Senior Management                  Team\n",
              "995      Henry    NaN  ...             False          Distribution\n",
              "996    Phillip   Male  ...             False               Finance\n",
              "997    Russell   Male  ...             False               Product\n",
              "998      Larry   Male  ...             False  Business Development\n",
              "999     Albert   Male  ...              True                 Sales\n",
              "\n",
              "[5 rows x 8 columns]"
            ]
          },
          "metadata": {},
          "execution_count": 115
        }
      ]
    },
    {
      "cell_type": "code",
      "metadata": {
        "colab": {
          "base_uri": "https://localhost:8080/",
          "height": 142
        },
        "id": "JZIColuu0DAJ",
        "outputId": "a119b476-6cd1-4171-ec1a-0b4c67d2a2f4"
      },
      "source": [
        "data.head(3)"
      ],
      "execution_count": null,
      "outputs": [
        {
          "output_type": "execute_result",
          "data": {
            "text/html": [
              "<div>\n",
              "<style scoped>\n",
              "    .dataframe tbody tr th:only-of-type {\n",
              "        vertical-align: middle;\n",
              "    }\n",
              "\n",
              "    .dataframe tbody tr th {\n",
              "        vertical-align: top;\n",
              "    }\n",
              "\n",
              "    .dataframe thead th {\n",
              "        text-align: right;\n",
              "    }\n",
              "</style>\n",
              "<table border=\"1\" class=\"dataframe\">\n",
              "  <thead>\n",
              "    <tr style=\"text-align: right;\">\n",
              "      <th></th>\n",
              "      <th>First Name</th>\n",
              "      <th>Gender</th>\n",
              "      <th>Start Date</th>\n",
              "      <th>Last Login Time</th>\n",
              "      <th>Salary</th>\n",
              "      <th>Bonus %</th>\n",
              "      <th>Senior Management</th>\n",
              "      <th>Team</th>\n",
              "    </tr>\n",
              "  </thead>\n",
              "  <tbody>\n",
              "    <tr>\n",
              "      <th>0</th>\n",
              "      <td>Douglas</td>\n",
              "      <td>Male</td>\n",
              "      <td>8/6/1993</td>\n",
              "      <td>12:42 PM</td>\n",
              "      <td>97308</td>\n",
              "      <td>6.945</td>\n",
              "      <td>True</td>\n",
              "      <td>Marketing</td>\n",
              "    </tr>\n",
              "    <tr>\n",
              "      <th>1</th>\n",
              "      <td>Thomas</td>\n",
              "      <td>Male</td>\n",
              "      <td>3/31/1996</td>\n",
              "      <td>6:53 AM</td>\n",
              "      <td>61933</td>\n",
              "      <td>4.170</td>\n",
              "      <td>True</td>\n",
              "      <td>NaN</td>\n",
              "    </tr>\n",
              "    <tr>\n",
              "      <th>2</th>\n",
              "      <td>Maria</td>\n",
              "      <td>Female</td>\n",
              "      <td>4/23/1993</td>\n",
              "      <td>11:17 AM</td>\n",
              "      <td>130590</td>\n",
              "      <td>11.858</td>\n",
              "      <td>False</td>\n",
              "      <td>Finance</td>\n",
              "    </tr>\n",
              "  </tbody>\n",
              "</table>\n",
              "</div>"
            ],
            "text/plain": [
              "  First Name  Gender Start Date  ... Bonus %  Senior Management       Team\n",
              "0    Douglas    Male   8/6/1993  ...   6.945               True  Marketing\n",
              "1     Thomas    Male  3/31/1996  ...   4.170               True        NaN\n",
              "2      Maria  Female  4/23/1993  ...  11.858              False    Finance\n",
              "\n",
              "[3 rows x 8 columns]"
            ]
          },
          "metadata": {},
          "execution_count": 116
        }
      ]
    },
    {
      "cell_type": "code",
      "metadata": {
        "colab": {
          "base_uri": "https://localhost:8080/",
          "height": 357
        },
        "id": "ARBC8sN30O2e",
        "outputId": "f9ff5481-8ffd-4506-ea8b-43117db11e2c"
      },
      "source": [
        "data.tail(10)"
      ],
      "execution_count": null,
      "outputs": [
        {
          "output_type": "execute_result",
          "data": {
            "text/html": [
              "<div>\n",
              "<style scoped>\n",
              "    .dataframe tbody tr th:only-of-type {\n",
              "        vertical-align: middle;\n",
              "    }\n",
              "\n",
              "    .dataframe tbody tr th {\n",
              "        vertical-align: top;\n",
              "    }\n",
              "\n",
              "    .dataframe thead th {\n",
              "        text-align: right;\n",
              "    }\n",
              "</style>\n",
              "<table border=\"1\" class=\"dataframe\">\n",
              "  <thead>\n",
              "    <tr style=\"text-align: right;\">\n",
              "      <th></th>\n",
              "      <th>First Name</th>\n",
              "      <th>Gender</th>\n",
              "      <th>Start Date</th>\n",
              "      <th>Last Login Time</th>\n",
              "      <th>Salary</th>\n",
              "      <th>Bonus %</th>\n",
              "      <th>Senior Management</th>\n",
              "      <th>Team</th>\n",
              "    </tr>\n",
              "  </thead>\n",
              "  <tbody>\n",
              "    <tr>\n",
              "      <th>990</th>\n",
              "      <td>Robin</td>\n",
              "      <td>Female</td>\n",
              "      <td>7/24/1987</td>\n",
              "      <td>1:35 PM</td>\n",
              "      <td>100765</td>\n",
              "      <td>10.982</td>\n",
              "      <td>True</td>\n",
              "      <td>Client Services</td>\n",
              "    </tr>\n",
              "    <tr>\n",
              "      <th>991</th>\n",
              "      <td>Rose</td>\n",
              "      <td>Female</td>\n",
              "      <td>8/25/2002</td>\n",
              "      <td>5:12 AM</td>\n",
              "      <td>134505</td>\n",
              "      <td>11.051</td>\n",
              "      <td>True</td>\n",
              "      <td>Marketing</td>\n",
              "    </tr>\n",
              "    <tr>\n",
              "      <th>992</th>\n",
              "      <td>Anthony</td>\n",
              "      <td>Male</td>\n",
              "      <td>10/16/2011</td>\n",
              "      <td>8:35 AM</td>\n",
              "      <td>112769</td>\n",
              "      <td>11.625</td>\n",
              "      <td>True</td>\n",
              "      <td>Finance</td>\n",
              "    </tr>\n",
              "    <tr>\n",
              "      <th>993</th>\n",
              "      <td>Tina</td>\n",
              "      <td>Female</td>\n",
              "      <td>5/15/1997</td>\n",
              "      <td>3:53 PM</td>\n",
              "      <td>56450</td>\n",
              "      <td>19.040</td>\n",
              "      <td>True</td>\n",
              "      <td>Engineering</td>\n",
              "    </tr>\n",
              "    <tr>\n",
              "      <th>994</th>\n",
              "      <td>George</td>\n",
              "      <td>Male</td>\n",
              "      <td>6/21/2013</td>\n",
              "      <td>5:47 PM</td>\n",
              "      <td>98874</td>\n",
              "      <td>4.479</td>\n",
              "      <td>True</td>\n",
              "      <td>Marketing</td>\n",
              "    </tr>\n",
              "    <tr>\n",
              "      <th>995</th>\n",
              "      <td>Henry</td>\n",
              "      <td>NaN</td>\n",
              "      <td>11/23/2014</td>\n",
              "      <td>6:09 AM</td>\n",
              "      <td>132483</td>\n",
              "      <td>16.655</td>\n",
              "      <td>False</td>\n",
              "      <td>Distribution</td>\n",
              "    </tr>\n",
              "    <tr>\n",
              "      <th>996</th>\n",
              "      <td>Phillip</td>\n",
              "      <td>Male</td>\n",
              "      <td>1/31/1984</td>\n",
              "      <td>6:30 AM</td>\n",
              "      <td>42392</td>\n",
              "      <td>19.675</td>\n",
              "      <td>False</td>\n",
              "      <td>Finance</td>\n",
              "    </tr>\n",
              "    <tr>\n",
              "      <th>997</th>\n",
              "      <td>Russell</td>\n",
              "      <td>Male</td>\n",
              "      <td>5/20/2013</td>\n",
              "      <td>12:39 PM</td>\n",
              "      <td>96914</td>\n",
              "      <td>1.421</td>\n",
              "      <td>False</td>\n",
              "      <td>Product</td>\n",
              "    </tr>\n",
              "    <tr>\n",
              "      <th>998</th>\n",
              "      <td>Larry</td>\n",
              "      <td>Male</td>\n",
              "      <td>4/20/2013</td>\n",
              "      <td>4:45 PM</td>\n",
              "      <td>60500</td>\n",
              "      <td>11.985</td>\n",
              "      <td>False</td>\n",
              "      <td>Business Development</td>\n",
              "    </tr>\n",
              "    <tr>\n",
              "      <th>999</th>\n",
              "      <td>Albert</td>\n",
              "      <td>Male</td>\n",
              "      <td>5/15/2012</td>\n",
              "      <td>6:24 PM</td>\n",
              "      <td>129949</td>\n",
              "      <td>10.169</td>\n",
              "      <td>True</td>\n",
              "      <td>Sales</td>\n",
              "    </tr>\n",
              "  </tbody>\n",
              "</table>\n",
              "</div>"
            ],
            "text/plain": [
              "    First Name  Gender  ... Senior Management                  Team\n",
              "990      Robin  Female  ...              True       Client Services\n",
              "991       Rose  Female  ...              True             Marketing\n",
              "992    Anthony    Male  ...              True               Finance\n",
              "993       Tina  Female  ...              True           Engineering\n",
              "994     George    Male  ...              True             Marketing\n",
              "995      Henry     NaN  ...             False          Distribution\n",
              "996    Phillip    Male  ...             False               Finance\n",
              "997    Russell    Male  ...             False               Product\n",
              "998      Larry    Male  ...             False  Business Development\n",
              "999     Albert    Male  ...              True                 Sales\n",
              "\n",
              "[10 rows x 8 columns]"
            ]
          },
          "metadata": {},
          "execution_count": 117
        }
      ]
    },
    {
      "cell_type": "code",
      "metadata": {
        "colab": {
          "base_uri": "https://localhost:8080/",
          "height": 417
        },
        "id": "qY5aujY80VbD",
        "outputId": "f4c24787-dcbe-4e84-f379-aa5507282634"
      },
      "source": [
        "data[[\"First Name\", \"Gender\", \"Salary\"]]"
      ],
      "execution_count": null,
      "outputs": [
        {
          "output_type": "execute_result",
          "data": {
            "text/html": [
              "<div>\n",
              "<style scoped>\n",
              "    .dataframe tbody tr th:only-of-type {\n",
              "        vertical-align: middle;\n",
              "    }\n",
              "\n",
              "    .dataframe tbody tr th {\n",
              "        vertical-align: top;\n",
              "    }\n",
              "\n",
              "    .dataframe thead th {\n",
              "        text-align: right;\n",
              "    }\n",
              "</style>\n",
              "<table border=\"1\" class=\"dataframe\">\n",
              "  <thead>\n",
              "    <tr style=\"text-align: right;\">\n",
              "      <th></th>\n",
              "      <th>First Name</th>\n",
              "      <th>Gender</th>\n",
              "      <th>Salary</th>\n",
              "    </tr>\n",
              "  </thead>\n",
              "  <tbody>\n",
              "    <tr>\n",
              "      <th>0</th>\n",
              "      <td>Douglas</td>\n",
              "      <td>Male</td>\n",
              "      <td>97308</td>\n",
              "    </tr>\n",
              "    <tr>\n",
              "      <th>1</th>\n",
              "      <td>Thomas</td>\n",
              "      <td>Male</td>\n",
              "      <td>61933</td>\n",
              "    </tr>\n",
              "    <tr>\n",
              "      <th>2</th>\n",
              "      <td>Maria</td>\n",
              "      <td>Female</td>\n",
              "      <td>130590</td>\n",
              "    </tr>\n",
              "    <tr>\n",
              "      <th>3</th>\n",
              "      <td>Jerry</td>\n",
              "      <td>Male</td>\n",
              "      <td>138705</td>\n",
              "    </tr>\n",
              "    <tr>\n",
              "      <th>4</th>\n",
              "      <td>Larry</td>\n",
              "      <td>Male</td>\n",
              "      <td>101004</td>\n",
              "    </tr>\n",
              "    <tr>\n",
              "      <th>...</th>\n",
              "      <td>...</td>\n",
              "      <td>...</td>\n",
              "      <td>...</td>\n",
              "    </tr>\n",
              "    <tr>\n",
              "      <th>995</th>\n",
              "      <td>Henry</td>\n",
              "      <td>NaN</td>\n",
              "      <td>132483</td>\n",
              "    </tr>\n",
              "    <tr>\n",
              "      <th>996</th>\n",
              "      <td>Phillip</td>\n",
              "      <td>Male</td>\n",
              "      <td>42392</td>\n",
              "    </tr>\n",
              "    <tr>\n",
              "      <th>997</th>\n",
              "      <td>Russell</td>\n",
              "      <td>Male</td>\n",
              "      <td>96914</td>\n",
              "    </tr>\n",
              "    <tr>\n",
              "      <th>998</th>\n",
              "      <td>Larry</td>\n",
              "      <td>Male</td>\n",
              "      <td>60500</td>\n",
              "    </tr>\n",
              "    <tr>\n",
              "      <th>999</th>\n",
              "      <td>Albert</td>\n",
              "      <td>Male</td>\n",
              "      <td>129949</td>\n",
              "    </tr>\n",
              "  </tbody>\n",
              "</table>\n",
              "<p>1000 rows × 3 columns</p>\n",
              "</div>"
            ],
            "text/plain": [
              "    First Name  Gender  Salary\n",
              "0      Douglas    Male   97308\n",
              "1       Thomas    Male   61933\n",
              "2        Maria  Female  130590\n",
              "3        Jerry    Male  138705\n",
              "4        Larry    Male  101004\n",
              "..         ...     ...     ...\n",
              "995      Henry     NaN  132483\n",
              "996    Phillip    Male   42392\n",
              "997    Russell    Male   96914\n",
              "998      Larry    Male   60500\n",
              "999     Albert    Male  129949\n",
              "\n",
              "[1000 rows x 3 columns]"
            ]
          },
          "metadata": {},
          "execution_count": 118
        }
      ]
    },
    {
      "cell_type": "code",
      "metadata": {
        "colab": {
          "base_uri": "https://localhost:8080/",
          "height": 203
        },
        "id": "VJA3AEtq0ies",
        "outputId": "d7b28566-e94e-478e-bf38-f4ed8ab4c7ce"
      },
      "source": [
        "data[[\"First Name\", \"Gender\", \"Salary\"]].head()"
      ],
      "execution_count": null,
      "outputs": [
        {
          "output_type": "execute_result",
          "data": {
            "text/html": [
              "<div>\n",
              "<style scoped>\n",
              "    .dataframe tbody tr th:only-of-type {\n",
              "        vertical-align: middle;\n",
              "    }\n",
              "\n",
              "    .dataframe tbody tr th {\n",
              "        vertical-align: top;\n",
              "    }\n",
              "\n",
              "    .dataframe thead th {\n",
              "        text-align: right;\n",
              "    }\n",
              "</style>\n",
              "<table border=\"1\" class=\"dataframe\">\n",
              "  <thead>\n",
              "    <tr style=\"text-align: right;\">\n",
              "      <th></th>\n",
              "      <th>First Name</th>\n",
              "      <th>Gender</th>\n",
              "      <th>Salary</th>\n",
              "    </tr>\n",
              "  </thead>\n",
              "  <tbody>\n",
              "    <tr>\n",
              "      <th>0</th>\n",
              "      <td>Douglas</td>\n",
              "      <td>Male</td>\n",
              "      <td>97308</td>\n",
              "    </tr>\n",
              "    <tr>\n",
              "      <th>1</th>\n",
              "      <td>Thomas</td>\n",
              "      <td>Male</td>\n",
              "      <td>61933</td>\n",
              "    </tr>\n",
              "    <tr>\n",
              "      <th>2</th>\n",
              "      <td>Maria</td>\n",
              "      <td>Female</td>\n",
              "      <td>130590</td>\n",
              "    </tr>\n",
              "    <tr>\n",
              "      <th>3</th>\n",
              "      <td>Jerry</td>\n",
              "      <td>Male</td>\n",
              "      <td>138705</td>\n",
              "    </tr>\n",
              "    <tr>\n",
              "      <th>4</th>\n",
              "      <td>Larry</td>\n",
              "      <td>Male</td>\n",
              "      <td>101004</td>\n",
              "    </tr>\n",
              "  </tbody>\n",
              "</table>\n",
              "</div>"
            ],
            "text/plain": [
              "  First Name  Gender  Salary\n",
              "0    Douglas    Male   97308\n",
              "1     Thomas    Male   61933\n",
              "2      Maria  Female  130590\n",
              "3      Jerry    Male  138705\n",
              "4      Larry    Male  101004"
            ]
          },
          "metadata": {},
          "execution_count": 119
        }
      ]
    },
    {
      "cell_type": "code",
      "metadata": {
        "colab": {
          "base_uri": "https://localhost:8080/"
        },
        "id": "gI2n8qe90urQ",
        "outputId": "814fe13e-1a15-44e1-cadf-e7fd598d0120"
      },
      "source": [
        "data.columns"
      ],
      "execution_count": null,
      "outputs": [
        {
          "output_type": "execute_result",
          "data": {
            "text/plain": [
              "Index(['First Name', 'Gender', 'Start Date', 'Last Login Time', 'Salary',\n",
              "       'Bonus %', 'Senior Management', 'Team'],\n",
              "      dtype='object')"
            ]
          },
          "metadata": {},
          "execution_count": 120
        }
      ]
    },
    {
      "cell_type": "code",
      "metadata": {
        "colab": {
          "base_uri": "https://localhost:8080/"
        },
        "id": "G2emLtTL03EJ",
        "outputId": "e3640d77-e455-44f4-b69a-73faddfd17a5"
      },
      "source": [
        "len(data.columns)"
      ],
      "execution_count": null,
      "outputs": [
        {
          "output_type": "execute_result",
          "data": {
            "text/plain": [
              "8"
            ]
          },
          "metadata": {},
          "execution_count": 121
        }
      ]
    },
    {
      "cell_type": "code",
      "metadata": {
        "colab": {
          "base_uri": "https://localhost:8080/",
          "height": 417
        },
        "id": "cjrSq6JF57Tn",
        "outputId": "6c9bef85-8ace-4a3b-d39b-85b1002a3c2a"
      },
      "source": [
        "#how to rename the column name\n",
        "data.rename(columns = {\"Start Date\" : \"Joining Data\",\"Bonus %\": \"Bonus\"})"
      ],
      "execution_count": null,
      "outputs": [
        {
          "output_type": "execute_result",
          "data": {
            "text/html": [
              "<div>\n",
              "<style scoped>\n",
              "    .dataframe tbody tr th:only-of-type {\n",
              "        vertical-align: middle;\n",
              "    }\n",
              "\n",
              "    .dataframe tbody tr th {\n",
              "        vertical-align: top;\n",
              "    }\n",
              "\n",
              "    .dataframe thead th {\n",
              "        text-align: right;\n",
              "    }\n",
              "</style>\n",
              "<table border=\"1\" class=\"dataframe\">\n",
              "  <thead>\n",
              "    <tr style=\"text-align: right;\">\n",
              "      <th></th>\n",
              "      <th>First Name</th>\n",
              "      <th>Gender</th>\n",
              "      <th>Joining Data</th>\n",
              "      <th>Last Login Time</th>\n",
              "      <th>Salary</th>\n",
              "      <th>Bonus</th>\n",
              "      <th>Senior Management</th>\n",
              "      <th>Team</th>\n",
              "    </tr>\n",
              "  </thead>\n",
              "  <tbody>\n",
              "    <tr>\n",
              "      <th>0</th>\n",
              "      <td>Douglas</td>\n",
              "      <td>Male</td>\n",
              "      <td>8/6/1993</td>\n",
              "      <td>12:42 PM</td>\n",
              "      <td>97308</td>\n",
              "      <td>6.945</td>\n",
              "      <td>True</td>\n",
              "      <td>Marketing</td>\n",
              "    </tr>\n",
              "    <tr>\n",
              "      <th>1</th>\n",
              "      <td>Thomas</td>\n",
              "      <td>Male</td>\n",
              "      <td>3/31/1996</td>\n",
              "      <td>6:53 AM</td>\n",
              "      <td>61933</td>\n",
              "      <td>4.170</td>\n",
              "      <td>True</td>\n",
              "      <td>NaN</td>\n",
              "    </tr>\n",
              "    <tr>\n",
              "      <th>2</th>\n",
              "      <td>Maria</td>\n",
              "      <td>Female</td>\n",
              "      <td>4/23/1993</td>\n",
              "      <td>11:17 AM</td>\n",
              "      <td>130590</td>\n",
              "      <td>11.858</td>\n",
              "      <td>False</td>\n",
              "      <td>Finance</td>\n",
              "    </tr>\n",
              "    <tr>\n",
              "      <th>3</th>\n",
              "      <td>Jerry</td>\n",
              "      <td>Male</td>\n",
              "      <td>3/4/2005</td>\n",
              "      <td>1:00 PM</td>\n",
              "      <td>138705</td>\n",
              "      <td>9.340</td>\n",
              "      <td>True</td>\n",
              "      <td>Finance</td>\n",
              "    </tr>\n",
              "    <tr>\n",
              "      <th>4</th>\n",
              "      <td>Larry</td>\n",
              "      <td>Male</td>\n",
              "      <td>1/24/1998</td>\n",
              "      <td>4:47 PM</td>\n",
              "      <td>101004</td>\n",
              "      <td>1.389</td>\n",
              "      <td>True</td>\n",
              "      <td>Client Services</td>\n",
              "    </tr>\n",
              "    <tr>\n",
              "      <th>...</th>\n",
              "      <td>...</td>\n",
              "      <td>...</td>\n",
              "      <td>...</td>\n",
              "      <td>...</td>\n",
              "      <td>...</td>\n",
              "      <td>...</td>\n",
              "      <td>...</td>\n",
              "      <td>...</td>\n",
              "    </tr>\n",
              "    <tr>\n",
              "      <th>995</th>\n",
              "      <td>Henry</td>\n",
              "      <td>NaN</td>\n",
              "      <td>11/23/2014</td>\n",
              "      <td>6:09 AM</td>\n",
              "      <td>132483</td>\n",
              "      <td>16.655</td>\n",
              "      <td>False</td>\n",
              "      <td>Distribution</td>\n",
              "    </tr>\n",
              "    <tr>\n",
              "      <th>996</th>\n",
              "      <td>Phillip</td>\n",
              "      <td>Male</td>\n",
              "      <td>1/31/1984</td>\n",
              "      <td>6:30 AM</td>\n",
              "      <td>42392</td>\n",
              "      <td>19.675</td>\n",
              "      <td>False</td>\n",
              "      <td>Finance</td>\n",
              "    </tr>\n",
              "    <tr>\n",
              "      <th>997</th>\n",
              "      <td>Russell</td>\n",
              "      <td>Male</td>\n",
              "      <td>5/20/2013</td>\n",
              "      <td>12:39 PM</td>\n",
              "      <td>96914</td>\n",
              "      <td>1.421</td>\n",
              "      <td>False</td>\n",
              "      <td>Product</td>\n",
              "    </tr>\n",
              "    <tr>\n",
              "      <th>998</th>\n",
              "      <td>Larry</td>\n",
              "      <td>Male</td>\n",
              "      <td>4/20/2013</td>\n",
              "      <td>4:45 PM</td>\n",
              "      <td>60500</td>\n",
              "      <td>11.985</td>\n",
              "      <td>False</td>\n",
              "      <td>Business Development</td>\n",
              "    </tr>\n",
              "    <tr>\n",
              "      <th>999</th>\n",
              "      <td>Albert</td>\n",
              "      <td>Male</td>\n",
              "      <td>5/15/2012</td>\n",
              "      <td>6:24 PM</td>\n",
              "      <td>129949</td>\n",
              "      <td>10.169</td>\n",
              "      <td>True</td>\n",
              "      <td>Sales</td>\n",
              "    </tr>\n",
              "  </tbody>\n",
              "</table>\n",
              "<p>1000 rows × 8 columns</p>\n",
              "</div>"
            ],
            "text/plain": [
              "    First Name  Gender  ... Senior Management                  Team\n",
              "0      Douglas    Male  ...              True             Marketing\n",
              "1       Thomas    Male  ...              True                   NaN\n",
              "2        Maria  Female  ...             False               Finance\n",
              "3        Jerry    Male  ...              True               Finance\n",
              "4        Larry    Male  ...              True       Client Services\n",
              "..         ...     ...  ...               ...                   ...\n",
              "995      Henry     NaN  ...             False          Distribution\n",
              "996    Phillip    Male  ...             False               Finance\n",
              "997    Russell    Male  ...             False               Product\n",
              "998      Larry    Male  ...             False  Business Development\n",
              "999     Albert    Male  ...              True                 Sales\n",
              "\n",
              "[1000 rows x 8 columns]"
            ]
          },
          "metadata": {},
          "execution_count": 122
        }
      ]
    },
    {
      "cell_type": "code",
      "metadata": {
        "id": "VQOFgPto6Kpy"
      },
      "source": [
        "#to save data parmanent we have to save it in some variable\n",
        "new_data = data.rename(columns = {\"Start Date\" : \"Joining Date\",\"Bonus %\": \"Bonus\"})"
      ],
      "execution_count": null,
      "outputs": []
    },
    {
      "cell_type": "code",
      "metadata": {
        "colab": {
          "base_uri": "https://localhost:8080/",
          "height": 203
        },
        "id": "ji0xkQ_Z6PJh",
        "outputId": "6c189707-b1a5-49c4-eb3d-6f6b8fada36f"
      },
      "source": [
        "new_data.head()"
      ],
      "execution_count": null,
      "outputs": [
        {
          "output_type": "execute_result",
          "data": {
            "text/html": [
              "<div>\n",
              "<style scoped>\n",
              "    .dataframe tbody tr th:only-of-type {\n",
              "        vertical-align: middle;\n",
              "    }\n",
              "\n",
              "    .dataframe tbody tr th {\n",
              "        vertical-align: top;\n",
              "    }\n",
              "\n",
              "    .dataframe thead th {\n",
              "        text-align: right;\n",
              "    }\n",
              "</style>\n",
              "<table border=\"1\" class=\"dataframe\">\n",
              "  <thead>\n",
              "    <tr style=\"text-align: right;\">\n",
              "      <th></th>\n",
              "      <th>First Name</th>\n",
              "      <th>Gender</th>\n",
              "      <th>Joining Date</th>\n",
              "      <th>Last Login Time</th>\n",
              "      <th>Salary</th>\n",
              "      <th>Bonus</th>\n",
              "      <th>Senior Management</th>\n",
              "      <th>Team</th>\n",
              "    </tr>\n",
              "  </thead>\n",
              "  <tbody>\n",
              "    <tr>\n",
              "      <th>0</th>\n",
              "      <td>Douglas</td>\n",
              "      <td>Male</td>\n",
              "      <td>8/6/1993</td>\n",
              "      <td>12:42 PM</td>\n",
              "      <td>97308</td>\n",
              "      <td>6.945</td>\n",
              "      <td>True</td>\n",
              "      <td>Marketing</td>\n",
              "    </tr>\n",
              "    <tr>\n",
              "      <th>1</th>\n",
              "      <td>Thomas</td>\n",
              "      <td>Male</td>\n",
              "      <td>3/31/1996</td>\n",
              "      <td>6:53 AM</td>\n",
              "      <td>61933</td>\n",
              "      <td>4.170</td>\n",
              "      <td>True</td>\n",
              "      <td>NaN</td>\n",
              "    </tr>\n",
              "    <tr>\n",
              "      <th>2</th>\n",
              "      <td>Maria</td>\n",
              "      <td>Female</td>\n",
              "      <td>4/23/1993</td>\n",
              "      <td>11:17 AM</td>\n",
              "      <td>130590</td>\n",
              "      <td>11.858</td>\n",
              "      <td>False</td>\n",
              "      <td>Finance</td>\n",
              "    </tr>\n",
              "    <tr>\n",
              "      <th>3</th>\n",
              "      <td>Jerry</td>\n",
              "      <td>Male</td>\n",
              "      <td>3/4/2005</td>\n",
              "      <td>1:00 PM</td>\n",
              "      <td>138705</td>\n",
              "      <td>9.340</td>\n",
              "      <td>True</td>\n",
              "      <td>Finance</td>\n",
              "    </tr>\n",
              "    <tr>\n",
              "      <th>4</th>\n",
              "      <td>Larry</td>\n",
              "      <td>Male</td>\n",
              "      <td>1/24/1998</td>\n",
              "      <td>4:47 PM</td>\n",
              "      <td>101004</td>\n",
              "      <td>1.389</td>\n",
              "      <td>True</td>\n",
              "      <td>Client Services</td>\n",
              "    </tr>\n",
              "  </tbody>\n",
              "</table>\n",
              "</div>"
            ],
            "text/plain": [
              "  First Name  Gender Joining Date  ...   Bonus  Senior Management             Team\n",
              "0    Douglas    Male     8/6/1993  ...   6.945               True        Marketing\n",
              "1     Thomas    Male    3/31/1996  ...   4.170               True              NaN\n",
              "2      Maria  Female    4/23/1993  ...  11.858              False          Finance\n",
              "3      Jerry    Male     3/4/2005  ...   9.340               True          Finance\n",
              "4      Larry    Male    1/24/1998  ...   1.389               True  Client Services\n",
              "\n",
              "[5 rows x 8 columns]"
            ]
          },
          "metadata": {},
          "execution_count": 124
        }
      ]
    },
    {
      "cell_type": "code",
      "metadata": {
        "id": "3ooHm5yF6ZUe"
      },
      "source": [
        "#to change the datadype of any data\n",
        "data['Start Date'] = pd.to_datetime(data['Start Date'])\n",
        "data['Last Login Time'] = pd.to_datetime(data['Last Login Time'])"
      ],
      "execution_count": null,
      "outputs": []
    },
    {
      "cell_type": "code",
      "metadata": {
        "colab": {
          "base_uri": "https://localhost:8080/"
        },
        "id": "3Zcmp7V17jRA",
        "outputId": "f7e952c9-eec3-4d86-c3cb-71c925624a3b"
      },
      "source": [
        "data.info()"
      ],
      "execution_count": null,
      "outputs": [
        {
          "output_type": "stream",
          "name": "stdout",
          "text": [
            "<class 'pandas.core.frame.DataFrame'>\n",
            "RangeIndex: 1000 entries, 0 to 999\n",
            "Data columns (total 8 columns):\n",
            " #   Column             Non-Null Count  Dtype         \n",
            "---  ------             --------------  -----         \n",
            " 0   First Name         933 non-null    object        \n",
            " 1   Gender             855 non-null    object        \n",
            " 2   Start Date         1000 non-null   datetime64[ns]\n",
            " 3   Last Login Time    1000 non-null   datetime64[ns]\n",
            " 4   Salary             1000 non-null   int64         \n",
            " 5   Bonus %            1000 non-null   float64       \n",
            " 6   Senior Management  933 non-null    object        \n",
            " 7   Team               957 non-null    object        \n",
            "dtypes: datetime64[ns](2), float64(1), int64(1), object(4)\n",
            "memory usage: 62.6+ KB\n"
          ]
        }
      ]
    },
    {
      "cell_type": "code",
      "metadata": {
        "id": "zFw4acbS7t0H"
      },
      "source": [
        "data['Senior Management'] = data['Senior Management'].astype(\"bool\")\n",
        " #here astype is universal method we can pass any data type that I want to convert\n",
        "data['Salary'] = data['Salary'].astype(\"float64\")"
      ],
      "execution_count": null,
      "outputs": []
    },
    {
      "cell_type": "code",
      "metadata": {
        "colab": {
          "base_uri": "https://localhost:8080/"
        },
        "id": "iux7NwAT-V90",
        "outputId": "bb6e9269-f786-4049-f99e-e3b89a337a02"
      },
      "source": [
        "data.info()"
      ],
      "execution_count": null,
      "outputs": [
        {
          "output_type": "stream",
          "name": "stdout",
          "text": [
            "<class 'pandas.core.frame.DataFrame'>\n",
            "RangeIndex: 1000 entries, 0 to 999\n",
            "Data columns (total 8 columns):\n",
            " #   Column             Non-Null Count  Dtype         \n",
            "---  ------             --------------  -----         \n",
            " 0   First Name         933 non-null    object        \n",
            " 1   Gender             855 non-null    object        \n",
            " 2   Start Date         1000 non-null   datetime64[ns]\n",
            " 3   Last Login Time    1000 non-null   datetime64[ns]\n",
            " 4   Salary             1000 non-null   float64       \n",
            " 5   Bonus %            1000 non-null   float64       \n",
            " 6   Senior Management  1000 non-null   bool          \n",
            " 7   Team               957 non-null    object        \n",
            "dtypes: bool(1), datetime64[ns](2), float64(2), object(3)\n",
            "memory usage: 55.8+ KB\n"
          ]
        }
      ]
    },
    {
      "cell_type": "code",
      "metadata": {
        "id": "h9Zq1bo7-Y3X",
        "colab": {
          "base_uri": "https://localhost:8080/"
        },
        "outputId": "a44c4d0d-414c-40f8-b84b-531b9d942711"
      },
      "source": [
        "#how to deal with the missing values\n",
        "#count what is the exact the missing values\n",
        "data.isnull().sum()"
      ],
      "execution_count": null,
      "outputs": [
        {
          "output_type": "execute_result",
          "data": {
            "text/plain": [
              "First Name            67\n",
              "Gender               145\n",
              "Start Date             0\n",
              "Last Login Time        0\n",
              "Salary                 0\n",
              "Bonus %                0\n",
              "Senior Management      0\n",
              "Team                  43\n",
              "dtype: int64"
            ]
          },
          "metadata": {},
          "execution_count": 129
        }
      ]
    },
    {
      "cell_type": "code",
      "metadata": {
        "id": "4MeM5JOu36bb"
      },
      "source": [
        "# if we delete the null values it will delete the complete row\n",
        "# so we will replace the null value\n",
        "# so for replacing we have to go column by column\n",
        "data['First Name'] = data['First Name'].fillna('Unknown')   #fillna is a function to fill null values\n",
        "data['Gender'] = data['Gender'].fillna('Other') \n",
        "data['Team'] = data['Team'].fillna('No Team')"
      ],
      "execution_count": null,
      "outputs": []
    },
    {
      "cell_type": "code",
      "metadata": {
        "colab": {
          "base_uri": "https://localhost:8080/"
        },
        "id": "Ow1urTDb5-Xx",
        "outputId": "6272e84f-b7b1-4dc0-afa4-3d7dedb55887"
      },
      "source": [
        "data.isnull().sum()"
      ],
      "execution_count": null,
      "outputs": [
        {
          "output_type": "execute_result",
          "data": {
            "text/plain": [
              "First Name           0\n",
              "Gender               0\n",
              "Start Date           0\n",
              "Last Login Time      0\n",
              "Salary               0\n",
              "Bonus %              0\n",
              "Senior Management    0\n",
              "Team                 0\n",
              "dtype: int64"
            ]
          },
          "metadata": {},
          "execution_count": 131
        }
      ]
    },
    {
      "cell_type": "code",
      "metadata": {
        "colab": {
          "base_uri": "https://localhost:8080/"
        },
        "id": "DOU2SJnI6Dx9",
        "outputId": "3a8a71e0-7855-4095-bbba-80682b61f8ac"
      },
      "source": [
        "data[['Salary']].sum()"
      ],
      "execution_count": null,
      "outputs": [
        {
          "output_type": "execute_result",
          "data": {
            "text/plain": [
              "Salary    90662181.0\n",
              "dtype: float64"
            ]
          },
          "metadata": {},
          "execution_count": 132
        }
      ]
    },
    {
      "cell_type": "code",
      "metadata": {
        "colab": {
          "base_uri": "https://localhost:8080/"
        },
        "id": "duhXKWoQ61l4",
        "outputId": "34cbd243-a28d-4783-fa3c-5faca4224b6c"
      },
      "source": [
        "data[['Salary']].mean()"
      ],
      "execution_count": null,
      "outputs": [
        {
          "output_type": "execute_result",
          "data": {
            "text/plain": [
              "Salary    90662.181\n",
              "dtype: float64"
            ]
          },
          "metadata": {},
          "execution_count": 133
        }
      ]
    },
    {
      "cell_type": "code",
      "metadata": {
        "colab": {
          "base_uri": "https://localhost:8080/"
        },
        "id": "Kj3YaJ0567i8",
        "outputId": "82774c79-9bf9-495d-9a63-8ae331953e4d"
      },
      "source": [
        "type(data['Salary']) # datafream is collection of series"
      ],
      "execution_count": null,
      "outputs": [
        {
          "output_type": "execute_result",
          "data": {
            "text/plain": [
              "pandas.core.series.Series"
            ]
          },
          "metadata": {},
          "execution_count": 134
        }
      ]
    },
    {
      "cell_type": "code",
      "metadata": {
        "id": "UZ5QntiR8nBy"
      },
      "source": [
        "# to delete any column\n",
        "data.drop(['Last Login Time', 'Senior Management'], axis = 1, inplace = True)"
      ],
      "execution_count": null,
      "outputs": []
    },
    {
      "cell_type": "code",
      "metadata": {
        "colab": {
          "base_uri": "https://localhost:8080/",
          "height": 203
        },
        "id": "EKucMRf89w1F",
        "outputId": "191b3cc2-74ca-43a3-a366-75b9917bea54"
      },
      "source": [
        "data.head()"
      ],
      "execution_count": null,
      "outputs": [
        {
          "output_type": "execute_result",
          "data": {
            "text/html": [
              "<div>\n",
              "<style scoped>\n",
              "    .dataframe tbody tr th:only-of-type {\n",
              "        vertical-align: middle;\n",
              "    }\n",
              "\n",
              "    .dataframe tbody tr th {\n",
              "        vertical-align: top;\n",
              "    }\n",
              "\n",
              "    .dataframe thead th {\n",
              "        text-align: right;\n",
              "    }\n",
              "</style>\n",
              "<table border=\"1\" class=\"dataframe\">\n",
              "  <thead>\n",
              "    <tr style=\"text-align: right;\">\n",
              "      <th></th>\n",
              "      <th>First Name</th>\n",
              "      <th>Gender</th>\n",
              "      <th>Start Date</th>\n",
              "      <th>Salary</th>\n",
              "      <th>Bonus %</th>\n",
              "      <th>Team</th>\n",
              "    </tr>\n",
              "  </thead>\n",
              "  <tbody>\n",
              "    <tr>\n",
              "      <th>0</th>\n",
              "      <td>Douglas</td>\n",
              "      <td>Male</td>\n",
              "      <td>1993-08-06</td>\n",
              "      <td>97308.0</td>\n",
              "      <td>6.945</td>\n",
              "      <td>Marketing</td>\n",
              "    </tr>\n",
              "    <tr>\n",
              "      <th>1</th>\n",
              "      <td>Thomas</td>\n",
              "      <td>Male</td>\n",
              "      <td>1996-03-31</td>\n",
              "      <td>61933.0</td>\n",
              "      <td>4.170</td>\n",
              "      <td>No Team</td>\n",
              "    </tr>\n",
              "    <tr>\n",
              "      <th>2</th>\n",
              "      <td>Maria</td>\n",
              "      <td>Female</td>\n",
              "      <td>1993-04-23</td>\n",
              "      <td>130590.0</td>\n",
              "      <td>11.858</td>\n",
              "      <td>Finance</td>\n",
              "    </tr>\n",
              "    <tr>\n",
              "      <th>3</th>\n",
              "      <td>Jerry</td>\n",
              "      <td>Male</td>\n",
              "      <td>2005-03-04</td>\n",
              "      <td>138705.0</td>\n",
              "      <td>9.340</td>\n",
              "      <td>Finance</td>\n",
              "    </tr>\n",
              "    <tr>\n",
              "      <th>4</th>\n",
              "      <td>Larry</td>\n",
              "      <td>Male</td>\n",
              "      <td>1998-01-24</td>\n",
              "      <td>101004.0</td>\n",
              "      <td>1.389</td>\n",
              "      <td>Client Services</td>\n",
              "    </tr>\n",
              "  </tbody>\n",
              "</table>\n",
              "</div>"
            ],
            "text/plain": [
              "  First Name  Gender Start Date    Salary  Bonus %             Team\n",
              "0    Douglas    Male 1993-08-06   97308.0    6.945        Marketing\n",
              "1     Thomas    Male 1996-03-31   61933.0    4.170          No Team\n",
              "2      Maria  Female 1993-04-23  130590.0   11.858          Finance\n",
              "3      Jerry    Male 2005-03-04  138705.0    9.340          Finance\n",
              "4      Larry    Male 1998-01-24  101004.0    1.389  Client Services"
            ]
          },
          "metadata": {},
          "execution_count": 136
        }
      ]
    },
    {
      "cell_type": "code",
      "metadata": {
        "id": "cJC3q3X__Z2n"
      },
      "source": [
        "data = data.drop([2,4],axis = 0) #to delete any row"
      ],
      "execution_count": null,
      "outputs": []
    },
    {
      "cell_type": "code",
      "metadata": {
        "colab": {
          "base_uri": "https://localhost:8080/",
          "height": 203
        },
        "id": "iMz_QIJE_o6P",
        "outputId": "2e8a781f-9d3f-4fad-c8c0-cc2ed6baa722"
      },
      "source": [
        "data.head()"
      ],
      "execution_count": null,
      "outputs": [
        {
          "output_type": "execute_result",
          "data": {
            "text/html": [
              "<div>\n",
              "<style scoped>\n",
              "    .dataframe tbody tr th:only-of-type {\n",
              "        vertical-align: middle;\n",
              "    }\n",
              "\n",
              "    .dataframe tbody tr th {\n",
              "        vertical-align: top;\n",
              "    }\n",
              "\n",
              "    .dataframe thead th {\n",
              "        text-align: right;\n",
              "    }\n",
              "</style>\n",
              "<table border=\"1\" class=\"dataframe\">\n",
              "  <thead>\n",
              "    <tr style=\"text-align: right;\">\n",
              "      <th></th>\n",
              "      <th>First Name</th>\n",
              "      <th>Gender</th>\n",
              "      <th>Start Date</th>\n",
              "      <th>Salary</th>\n",
              "      <th>Bonus %</th>\n",
              "      <th>Team</th>\n",
              "    </tr>\n",
              "  </thead>\n",
              "  <tbody>\n",
              "    <tr>\n",
              "      <th>0</th>\n",
              "      <td>Douglas</td>\n",
              "      <td>Male</td>\n",
              "      <td>1993-08-06</td>\n",
              "      <td>97308.0</td>\n",
              "      <td>6.945</td>\n",
              "      <td>Marketing</td>\n",
              "    </tr>\n",
              "    <tr>\n",
              "      <th>1</th>\n",
              "      <td>Thomas</td>\n",
              "      <td>Male</td>\n",
              "      <td>1996-03-31</td>\n",
              "      <td>61933.0</td>\n",
              "      <td>4.170</td>\n",
              "      <td>No Team</td>\n",
              "    </tr>\n",
              "    <tr>\n",
              "      <th>3</th>\n",
              "      <td>Jerry</td>\n",
              "      <td>Male</td>\n",
              "      <td>2005-03-04</td>\n",
              "      <td>138705.0</td>\n",
              "      <td>9.340</td>\n",
              "      <td>Finance</td>\n",
              "    </tr>\n",
              "    <tr>\n",
              "      <th>5</th>\n",
              "      <td>Dennis</td>\n",
              "      <td>Male</td>\n",
              "      <td>1987-04-18</td>\n",
              "      <td>115163.0</td>\n",
              "      <td>10.125</td>\n",
              "      <td>Legal</td>\n",
              "    </tr>\n",
              "    <tr>\n",
              "      <th>6</th>\n",
              "      <td>Ruby</td>\n",
              "      <td>Female</td>\n",
              "      <td>1987-08-17</td>\n",
              "      <td>65476.0</td>\n",
              "      <td>10.012</td>\n",
              "      <td>Product</td>\n",
              "    </tr>\n",
              "  </tbody>\n",
              "</table>\n",
              "</div>"
            ],
            "text/plain": [
              "  First Name  Gender Start Date    Salary  Bonus %       Team\n",
              "0    Douglas    Male 1993-08-06   97308.0    6.945  Marketing\n",
              "1     Thomas    Male 1996-03-31   61933.0    4.170    No Team\n",
              "3      Jerry    Male 2005-03-04  138705.0    9.340    Finance\n",
              "5     Dennis    Male 1987-04-18  115163.0   10.125      Legal\n",
              "6       Ruby  Female 1987-08-17   65476.0   10.012    Product"
            ]
          },
          "metadata": {},
          "execution_count": 138
        }
      ]
    },
    {
      "cell_type": "code",
      "metadata": {
        "colab": {
          "base_uri": "https://localhost:8080/"
        },
        "id": "5Nzq4XS1_-zK",
        "outputId": "2d946cba-2e11-4a92-f6cb-00bc948ab151"
      },
      "source": [
        "# .iloc function is used to get the data of any row by the column name or any data\n",
        "data.iloc[4] #here 4 is index num"
      ],
      "execution_count": null,
      "outputs": [
        {
          "output_type": "execute_result",
          "data": {
            "text/plain": [
              "First Name                   Ruby\n",
              "Gender                     Female\n",
              "Start Date    1987-08-17 00:00:00\n",
              "Salary                      65476\n",
              "Bonus %                    10.012\n",
              "Team                      Product\n",
              "Name: 6, dtype: object"
            ]
          },
          "metadata": {},
          "execution_count": 140
        }
      ]
    },
    {
      "cell_type": "code",
      "metadata": {
        "colab": {
          "base_uri": "https://localhost:8080/"
        },
        "id": "lfv8dkx2A6Lb",
        "outputId": "47204a04-203b-45ba-e32e-4c44e772452a"
      },
      "source": [
        "data.loc[3] # here 3 is row name "
      ],
      "execution_count": null,
      "outputs": [
        {
          "output_type": "execute_result",
          "data": {
            "text/plain": [
              "First Name                  Jerry\n",
              "Gender                       Male\n",
              "Start Date    2005-03-04 00:00:00\n",
              "Salary                     138705\n",
              "Bonus %                      9.34\n",
              "Team                      Finance\n",
              "Name: 3, dtype: object"
            ]
          },
          "metadata": {},
          "execution_count": 143
        }
      ]
    },
    {
      "cell_type": "code",
      "metadata": {
        "colab": {
          "base_uri": "https://localhost:8080/"
        },
        "id": "UNdEHFZJBXzc",
        "outputId": "d417ad9b-892a-4051-a364-b7e1f7dcc6d7"
      },
      "source": [
        "data.iloc[5]['Salary']"
      ],
      "execution_count": null,
      "outputs": [
        {
          "output_type": "execute_result",
          "data": {
            "text/plain": [
              "45906.0"
            ]
          },
          "metadata": {},
          "execution_count": 144
        }
      ]
    },
    {
      "cell_type": "code",
      "metadata": {
        "colab": {
          "base_uri": "https://localhost:8080/",
          "height": 234
        },
        "id": "1hFRwI7TB4QD",
        "outputId": "f933a1c9-5f64-4646-e1b4-35639322cd10"
      },
      "source": [
        "data.iloc[3:9]"
      ],
      "execution_count": null,
      "outputs": [
        {
          "output_type": "execute_result",
          "data": {
            "text/html": [
              "<div>\n",
              "<style scoped>\n",
              "    .dataframe tbody tr th:only-of-type {\n",
              "        vertical-align: middle;\n",
              "    }\n",
              "\n",
              "    .dataframe tbody tr th {\n",
              "        vertical-align: top;\n",
              "    }\n",
              "\n",
              "    .dataframe thead th {\n",
              "        text-align: right;\n",
              "    }\n",
              "</style>\n",
              "<table border=\"1\" class=\"dataframe\">\n",
              "  <thead>\n",
              "    <tr style=\"text-align: right;\">\n",
              "      <th></th>\n",
              "      <th>First Name</th>\n",
              "      <th>Gender</th>\n",
              "      <th>Start Date</th>\n",
              "      <th>Salary</th>\n",
              "      <th>Bonus %</th>\n",
              "      <th>Team</th>\n",
              "    </tr>\n",
              "  </thead>\n",
              "  <tbody>\n",
              "    <tr>\n",
              "      <th>5</th>\n",
              "      <td>Dennis</td>\n",
              "      <td>Male</td>\n",
              "      <td>1987-04-18</td>\n",
              "      <td>115163.0</td>\n",
              "      <td>10.125</td>\n",
              "      <td>Legal</td>\n",
              "    </tr>\n",
              "    <tr>\n",
              "      <th>6</th>\n",
              "      <td>Ruby</td>\n",
              "      <td>Female</td>\n",
              "      <td>1987-08-17</td>\n",
              "      <td>65476.0</td>\n",
              "      <td>10.012</td>\n",
              "      <td>Product</td>\n",
              "    </tr>\n",
              "    <tr>\n",
              "      <th>7</th>\n",
              "      <td>Unknown</td>\n",
              "      <td>Female</td>\n",
              "      <td>2015-07-20</td>\n",
              "      <td>45906.0</td>\n",
              "      <td>11.598</td>\n",
              "      <td>Finance</td>\n",
              "    </tr>\n",
              "    <tr>\n",
              "      <th>8</th>\n",
              "      <td>Angela</td>\n",
              "      <td>Female</td>\n",
              "      <td>2005-11-22</td>\n",
              "      <td>95570.0</td>\n",
              "      <td>18.523</td>\n",
              "      <td>Engineering</td>\n",
              "    </tr>\n",
              "    <tr>\n",
              "      <th>9</th>\n",
              "      <td>Frances</td>\n",
              "      <td>Female</td>\n",
              "      <td>2002-08-08</td>\n",
              "      <td>139852.0</td>\n",
              "      <td>7.524</td>\n",
              "      <td>Business Development</td>\n",
              "    </tr>\n",
              "    <tr>\n",
              "      <th>10</th>\n",
              "      <td>Louise</td>\n",
              "      <td>Female</td>\n",
              "      <td>1980-08-12</td>\n",
              "      <td>63241.0</td>\n",
              "      <td>15.132</td>\n",
              "      <td>No Team</td>\n",
              "    </tr>\n",
              "  </tbody>\n",
              "</table>\n",
              "</div>"
            ],
            "text/plain": [
              "   First Name  Gender Start Date    Salary  Bonus %                  Team\n",
              "5      Dennis    Male 1987-04-18  115163.0   10.125                 Legal\n",
              "6        Ruby  Female 1987-08-17   65476.0   10.012               Product\n",
              "7     Unknown  Female 2015-07-20   45906.0   11.598               Finance\n",
              "8      Angela  Female 2005-11-22   95570.0   18.523           Engineering\n",
              "9     Frances  Female 2002-08-08  139852.0    7.524  Business Development\n",
              "10     Louise  Female 1980-08-12   63241.0   15.132               No Team"
            ]
          },
          "metadata": {},
          "execution_count": 145
        }
      ]
    },
    {
      "cell_type": "code",
      "metadata": {
        "colab": {
          "base_uri": "https://localhost:8080/"
        },
        "id": "IHnpO4ZlB8ss",
        "outputId": "a8249bfc-7e61-46a6-f304-109c682e02dc"
      },
      "source": [
        "data.iloc[3:9,3]"
      ],
      "execution_count": null,
      "outputs": [
        {
          "output_type": "execute_result",
          "data": {
            "text/plain": [
              "5     115163.0\n",
              "6      65476.0\n",
              "7      45906.0\n",
              "8      95570.0\n",
              "9     139852.0\n",
              "10     63241.0\n",
              "Name: Salary, dtype: float64"
            ]
          },
          "metadata": {},
          "execution_count": 146
        }
      ]
    },
    {
      "cell_type": "code",
      "metadata": {
        "colab": {
          "base_uri": "https://localhost:8080/",
          "height": 234
        },
        "id": "NDgq7RJ6IOnP",
        "outputId": "76b67ebe-1a5b-41cc-a954-acf8981f3367"
      },
      "source": [
        "data.iloc[3:9,2:5] # 1st rows 2nd column"
      ],
      "execution_count": null,
      "outputs": [
        {
          "output_type": "execute_result",
          "data": {
            "text/html": [
              "<div>\n",
              "<style scoped>\n",
              "    .dataframe tbody tr th:only-of-type {\n",
              "        vertical-align: middle;\n",
              "    }\n",
              "\n",
              "    .dataframe tbody tr th {\n",
              "        vertical-align: top;\n",
              "    }\n",
              "\n",
              "    .dataframe thead th {\n",
              "        text-align: right;\n",
              "    }\n",
              "</style>\n",
              "<table border=\"1\" class=\"dataframe\">\n",
              "  <thead>\n",
              "    <tr style=\"text-align: right;\">\n",
              "      <th></th>\n",
              "      <th>Start Date</th>\n",
              "      <th>Salary</th>\n",
              "      <th>Bonus %</th>\n",
              "    </tr>\n",
              "  </thead>\n",
              "  <tbody>\n",
              "    <tr>\n",
              "      <th>5</th>\n",
              "      <td>1987-04-18</td>\n",
              "      <td>115163.0</td>\n",
              "      <td>10.125</td>\n",
              "    </tr>\n",
              "    <tr>\n",
              "      <th>6</th>\n",
              "      <td>1987-08-17</td>\n",
              "      <td>65476.0</td>\n",
              "      <td>10.012</td>\n",
              "    </tr>\n",
              "    <tr>\n",
              "      <th>7</th>\n",
              "      <td>2015-07-20</td>\n",
              "      <td>45906.0</td>\n",
              "      <td>11.598</td>\n",
              "    </tr>\n",
              "    <tr>\n",
              "      <th>8</th>\n",
              "      <td>2005-11-22</td>\n",
              "      <td>95570.0</td>\n",
              "      <td>18.523</td>\n",
              "    </tr>\n",
              "    <tr>\n",
              "      <th>9</th>\n",
              "      <td>2002-08-08</td>\n",
              "      <td>139852.0</td>\n",
              "      <td>7.524</td>\n",
              "    </tr>\n",
              "    <tr>\n",
              "      <th>10</th>\n",
              "      <td>1980-08-12</td>\n",
              "      <td>63241.0</td>\n",
              "      <td>15.132</td>\n",
              "    </tr>\n",
              "  </tbody>\n",
              "</table>\n",
              "</div>"
            ],
            "text/plain": [
              "   Start Date    Salary  Bonus %\n",
              "5  1987-04-18  115163.0   10.125\n",
              "6  1987-08-17   65476.0   10.012\n",
              "7  2015-07-20   45906.0   11.598\n",
              "8  2005-11-22   95570.0   18.523\n",
              "9  2002-08-08  139852.0    7.524\n",
              "10 1980-08-12   63241.0   15.132"
            ]
          },
          "metadata": {},
          "execution_count": 148
        }
      ]
    },
    {
      "cell_type": "code",
      "metadata": {
        "colab": {
          "base_uri": "https://localhost:8080/"
        },
        "id": "7qImH390IcuE",
        "outputId": "8f297cc5-7d09-4483-d837-104751bcbd15"
      },
      "source": [
        "#how to plot the data from the excel\n",
        "data['Team'].values"
      ],
      "execution_count": null,
      "outputs": [
        {
          "output_type": "execute_result",
          "data": {
            "text/plain": [
              "array(['Marketing', 'No Team', 'Finance', 'Legal', 'Product', 'Finance',\n",
              "       'Engineering', 'Business Development', 'No Team', 'Legal',\n",
              "       'Human Resources', 'Sales', 'Finance', 'Product',\n",
              "       'Human Resources', 'Product', 'Client Services', 'Product',\n",
              "       'Legal', 'Marketing', 'Client Services', 'No Team',\n",
              "       'Client Services', 'Client Services', 'Marketing', 'Legal',\n",
              "       'Client Services', 'Legal', 'Engineering', 'Product', 'No Team',\n",
              "       'Business Development', 'Client Services', 'Sales',\n",
              "       'Business Development', 'Client Services', 'Business Development',\n",
              "       'Client Services', 'Distribution', 'Business Development', 'Legal',\n",
              "       'Marketing', 'Product', 'Sales', 'Finance', 'Client Services',\n",
              "       'Business Development', 'Sales', 'Engineering', 'Sales',\n",
              "       'Human Resources', 'Finance', 'Engineering', 'Product', 'Finance',\n",
              "       'Human Resources', 'Engineering', 'Engineering', 'Distribution',\n",
              "       'Business Development', 'Marketing', 'Human Resources',\n",
              "       'Business Development', 'Distribution', 'Business Development',\n",
              "       'Finance', 'Finance', 'Finance', 'Client Services', 'Sales',\n",
              "       'Product', 'Sales', 'Marketing', 'Human Resources', 'Distribution',\n",
              "       'Marketing', 'Sales', 'Product', 'Sales', 'Legal',\n",
              "       'Client Services', 'Finance', 'Finance', 'Client Services',\n",
              "       'Business Development', 'Sales', 'Legal', 'Legal', 'Legal',\n",
              "       'No Team', 'Business Development', 'Legal', 'Legal',\n",
              "       'Client Services', 'Finance', 'Marketing', 'Marketing',\n",
              "       'Business Development', 'Finance', 'Marketing', 'Client Services',\n",
              "       'Finance', 'Marketing', 'Finance', 'Legal', 'Legal', 'Legal',\n",
              "       'No Team', 'Legal', 'Business Development', 'Marketing',\n",
              "       'Engineering', 'Business Development', 'Product', 'Legal',\n",
              "       'Finance', 'Business Development', 'Marketing',\n",
              "       'Business Development', 'Product', 'Engineering', 'Product',\n",
              "       'Product', 'Human Resources', 'Human Resources', 'Human Resources',\n",
              "       'Client Services', 'Business Development', 'Human Resources',\n",
              "       'Product', 'Human Resources', 'Client Services',\n",
              "       'Business Development', 'Legal', 'Legal', 'Distribution',\n",
              "       'Engineering', 'No Team', 'Marketing', 'Product', 'Finance',\n",
              "       'Engineering', 'Sales', 'Client Services', 'Product', 'Legal',\n",
              "       'Sales', 'Distribution', 'Marketing', 'Business Development',\n",
              "       'Client Services', 'Finance', 'Product', 'Business Development',\n",
              "       'Human Resources', 'Product', 'Marketing', 'Marketing', 'Finance',\n",
              "       'Distribution', 'Legal', 'Client Services', 'Business Development',\n",
              "       'Legal', 'Sales', 'Sales', 'Marketing', 'Product', 'Sales',\n",
              "       'Engineering', 'Finance', 'Engineering', 'Client Services',\n",
              "       'Engineering', 'Product', 'Distribution', 'Product', 'Finance',\n",
              "       'Business Development', 'Distribution', 'Business Development',\n",
              "       'Distribution', 'Client Services', 'Legal', 'Sales', 'Marketing',\n",
              "       'Legal', 'Sales', 'Finance', 'Engineering', 'Legal', 'Legal',\n",
              "       'Distribution', 'Product', 'Client Services', 'Client Services',\n",
              "       'Product', 'No Team', 'Finance', 'Marketing', 'Sales',\n",
              "       'Business Development', 'Marketing', 'Finance', 'Client Services',\n",
              "       'Client Services', 'Human Resources', 'Engineering', 'Legal',\n",
              "       'Human Resources', 'Client Services', 'Engineering', 'Engineering',\n",
              "       'Client Services', 'Marketing', 'Client Services', 'Finance',\n",
              "       'Finance', 'Marketing', 'Legal', 'Finance', 'Legal',\n",
              "       'Distribution', 'Sales', 'Finance', 'Client Services',\n",
              "       'Engineering', 'Distribution', 'Legal', 'Product',\n",
              "       'Human Resources', 'Sales', 'Client Services', 'Engineering',\n",
              "       'Product', 'Legal', 'Legal', 'Human Resources', 'Distribution',\n",
              "       'Finance', 'Engineering', 'Product', 'Client Services',\n",
              "       'Engineering', 'Human Resources', 'Product', 'Distribution',\n",
              "       'Business Development', 'Sales', 'Business Development',\n",
              "       'Marketing', 'Sales', 'Client Services', 'Human Resources',\n",
              "       'Legal', 'Sales', 'No Team', 'Human Resources', 'Distribution',\n",
              "       'Product', 'Engineering', 'Engineering', 'Human Resources',\n",
              "       'Client Services', 'Distribution', 'Distribution', 'Finance',\n",
              "       'Human Resources', 'Human Resources', 'Marketing', 'Product',\n",
              "       'Product', 'Marketing', 'Business Development', 'Finance', 'Sales',\n",
              "       'Distribution', 'Business Development', 'Business Development',\n",
              "       'Human Resources', 'Client Services', 'Engineering',\n",
              "       'Client Services', 'Human Resources', 'Finance', 'Client Services',\n",
              "       'Distribution', 'Legal', 'No Team', 'Client Services',\n",
              "       'Client Services', 'Marketing', 'Distribution', 'Legal', 'Sales',\n",
              "       'Human Resources', 'Marketing', 'Human Resources', 'Engineering',\n",
              "       'Engineering', 'Human Resources', 'Client Services', 'Finance',\n",
              "       'Marketing', 'Business Development', 'Distribution', 'Legal',\n",
              "       'Marketing', 'Legal', 'Finance', 'Sales', 'Legal', 'No Team',\n",
              "       'Client Services', 'Product', 'Business Development', 'Finance',\n",
              "       'Marketing', 'Sales', 'Sales', 'Product', 'Sales',\n",
              "       'Business Development', 'Client Services', 'Product', 'Marketing',\n",
              "       'Finance', 'Engineering', 'Client Services', 'Marketing',\n",
              "       'Product', 'Client Services', 'Client Services', 'Finance',\n",
              "       'Legal', 'Sales', 'Product', 'Human Resources', 'Sales', 'Finance',\n",
              "       'Product', 'Engineering', 'Business Development',\n",
              "       'Human Resources', 'Human Resources', 'Sales', 'Finance', 'Sales',\n",
              "       'Sales', 'Sales', 'Engineering', 'Marketing', 'Legal', 'Legal',\n",
              "       'Distribution', 'Engineering', 'Product', 'Client Services',\n",
              "       'Sales', 'Sales', 'Distribution', 'Finance', 'Product',\n",
              "       'Human Resources', 'Client Services', 'No Team',\n",
              "       'Business Development', 'Product', 'Business Development', 'Sales',\n",
              "       'Engineering', 'Sales', 'Distribution', 'Sales', 'Engineering',\n",
              "       'Human Resources', 'Product', 'Marketing', 'Sales', 'Engineering',\n",
              "       'No Team', 'Product', 'Product', 'Client Services', 'Sales',\n",
              "       'Client Services', 'Product', 'Client Services', 'Sales', 'Sales',\n",
              "       'Client Services', 'Engineering', 'Product', 'Sales',\n",
              "       'Human Resources', 'Distribution', 'Human Resources', 'Finance',\n",
              "       'Marketing', 'Business Development', 'Engineering', 'Marketing',\n",
              "       'Sales', 'Finance', 'Business Development', 'Distribution',\n",
              "       'Client Services', 'Human Resources', 'Sales',\n",
              "       'Business Development', 'Legal', 'Marketing',\n",
              "       'Business Development', 'Finance', 'Distribution',\n",
              "       'Human Resources', 'Finance', 'Business Development', 'Finance',\n",
              "       'Sales', 'Product', 'Client Services', 'Human Resources',\n",
              "       'Finance', 'Human Resources', 'Sales', 'Finance',\n",
              "       'Human Resources', 'Distribution', 'Legal', 'Client Services',\n",
              "       'Legal', 'No Team', 'Distribution', 'Finance', 'Sales', 'No Team',\n",
              "       'Human Resources', 'Client Services', 'Business Development',\n",
              "       'Finance', 'Sales', 'Distribution', 'No Team', 'Marketing',\n",
              "       'Engineering', 'Client Services', 'Human Resources', 'Legal',\n",
              "       'Marketing', 'Marketing', 'Human Resources', 'Marketing',\n",
              "       'Human Resources', 'Engineering', 'Legal', 'Finance', 'Marketing',\n",
              "       'Legal', 'Marketing', 'Engineering', 'Product', 'Marketing',\n",
              "       'Legal', 'Sales', 'Engineering', 'Marketing', 'Legal',\n",
              "       'Distribution', 'Human Resources', 'Client Services',\n",
              "       'Business Development', 'Engineering', 'Engineering',\n",
              "       'Human Resources', 'Business Development', 'Business Development',\n",
              "       'No Team', 'Sales', 'Business Development', 'Product',\n",
              "       'Human Resources', 'Marketing', 'Finance', 'Distribution',\n",
              "       'Business Development', 'Legal', 'Client Services', 'Marketing',\n",
              "       'Distribution', 'Business Development', 'Finance', 'Sales',\n",
              "       'Sales', 'Marketing', 'Client Services', 'Business Development',\n",
              "       'Distribution', 'Legal', 'Distribution', 'Client Services',\n",
              "       'Marketing', 'Distribution', 'Engineering', 'Client Services',\n",
              "       'Engineering', 'Human Resources', 'Business Development', 'Legal',\n",
              "       'Business Development', 'No Team', 'No Team', 'Product', 'Sales',\n",
              "       'Legal', 'Human Resources', 'Product', 'Human Resources',\n",
              "       'No Team', 'Engineering', 'Distribution', 'Sales',\n",
              "       'Client Services', 'Human Resources', 'Finance', 'Product',\n",
              "       'Product', 'Client Services', 'Distribution', 'Marketing',\n",
              "       'Product', 'Product', 'Legal', 'Marketing', 'Business Development',\n",
              "       'Business Development', 'Human Resources', 'Sales', 'Finance',\n",
              "       'Engineering', 'Distribution', 'Client Services', 'Marketing',\n",
              "       'Product', 'Product', 'Finance', 'Sales', 'Finance', 'Marketing',\n",
              "       'Engineering', 'Product', 'Engineering', 'Client Services',\n",
              "       'Product', 'Marketing', 'Distribution', 'Engineering',\n",
              "       'Human Resources', 'Client Services', 'Engineering', 'Legal',\n",
              "       'Engineering', 'Client Services', 'Human Resources',\n",
              "       'Distribution', 'No Team', 'Marketing', 'Client Services',\n",
              "       'Product', 'Marketing', 'Human Resources', 'No Team',\n",
              "       'Client Services', 'Product', 'Product', 'Client Services',\n",
              "       'Product', 'Legal', 'No Team', 'Marketing', 'Finance',\n",
              "       'Business Development', 'Legal', 'Marketing', 'Marketing',\n",
              "       'Client Services', 'Human Resources', 'Human Resources',\n",
              "       'Business Development', 'Distribution', 'Sales', 'Sales',\n",
              "       'Business Development', 'Finance', 'Business Development',\n",
              "       'Distribution', 'Product', 'Human Resources', 'Distribution',\n",
              "       'Marketing', 'Engineering', 'Business Development', 'Engineering',\n",
              "       'Client Services', 'Client Services', 'Sales', 'Engineering',\n",
              "       'Sales', 'Product', 'Marketing', 'Distribution', 'Finance',\n",
              "       'Distribution', 'Engineering', 'Distribution', 'Marketing',\n",
              "       'Finance', 'Engineering', 'Finance', 'Client Services', 'Sales',\n",
              "       'Legal', 'Sales', 'Marketing', 'No Team', 'Marketing',\n",
              "       'Distribution', 'Marketing', 'Legal', 'Client Services',\n",
              "       'Engineering', 'Engineering', 'No Team', 'No Team', 'Engineering',\n",
              "       'Human Resources', 'Business Development', 'Client Services',\n",
              "       'Distribution', 'Sales', 'Finance', 'Human Resources', 'Finance',\n",
              "       'Marketing', 'Finance', 'No Team', 'Business Development',\n",
              "       'Finance', 'Finance', 'Client Services', 'Engineering', 'Product',\n",
              "       'Legal', 'Client Services', 'Marketing', 'Sales',\n",
              "       'Client Services', 'Marketing', 'Distribution', 'Engineering',\n",
              "       'Distribution', 'Distribution', 'Legal', 'Distribution',\n",
              "       'Business Development', 'Marketing', 'Legal', 'No Team',\n",
              "       'Client Services', 'Distribution', 'Human Resources',\n",
              "       'Business Development', 'Human Resources', 'Marketing',\n",
              "       'Marketing', 'Client Services', 'Product', 'Client Services',\n",
              "       'Engineering', 'Product', 'Product', 'Distribution', 'No Team',\n",
              "       'Finance', 'Finance', 'Distribution', 'Legal', 'Finance', 'Sales',\n",
              "       'Finance', 'Sales', 'Sales', 'Client Services', 'Human Resources',\n",
              "       'Marketing', 'Distribution', 'Legal', 'Distribution',\n",
              "       'Distribution', 'Legal', 'Finance', 'Human Resources',\n",
              "       'Distribution', 'Engineering', 'No Team', 'Engineering', 'Legal',\n",
              "       'Human Resources', 'Finance', 'Engineering', 'Engineering',\n",
              "       'Distribution', 'Distribution', 'Engineering',\n",
              "       'Business Development', 'Human Resources', 'Engineering',\n",
              "       'Engineering', 'Human Resources', 'Business Development',\n",
              "       'Marketing', 'Legal', 'Engineering', 'Finance', 'No Team', 'Sales',\n",
              "       'Client Services', 'Client Services', 'Marketing', 'Finance',\n",
              "       'Finance', 'Business Development', 'Human Resources',\n",
              "       'Business Development', 'Product', 'Product',\n",
              "       'Business Development', 'Sales', 'Marketing', 'Legal',\n",
              "       'Client Services', 'Human Resources', 'Finance',\n",
              "       'Business Development', 'Business Development',\n",
              "       'Business Development', 'Business Development', 'Legal', 'Product',\n",
              "       'Client Services', 'Business Development', 'No Team', 'Legal',\n",
              "       'Client Services', 'Distribution', 'Product', 'Legal',\n",
              "       'Distribution', 'Human Resources', 'Engineering', 'Distribution',\n",
              "       'Legal', 'Sales', 'Finance', 'Human Resources', 'Client Services',\n",
              "       'Sales', 'Marketing', 'Product', 'Product', 'Business Development',\n",
              "       'Finance', 'No Team', 'Finance', 'Human Resources', 'Sales',\n",
              "       'Distribution', 'Business Development', 'Human Resources',\n",
              "       'No Team', 'Client Services', 'Product', 'Sales', 'Marketing',\n",
              "       'Product', 'Sales', 'Business Development', 'Product', 'Finance',\n",
              "       'Legal', 'Distribution', 'Distribution', 'No Team',\n",
              "       'Human Resources', 'Client Services', 'Engineering', 'Marketing',\n",
              "       'Product', 'Product', 'Human Resources', 'Business Development',\n",
              "       'Product', 'Distribution', 'Engineering', 'Sales', 'Finance',\n",
              "       'Engineering', 'Finance', 'Business Development', 'Marketing',\n",
              "       'Product', 'Marketing', 'Distribution', 'Human Resources',\n",
              "       'Engineering', 'Marketing', 'Distribution', 'Legal',\n",
              "       'Human Resources', 'Distribution', 'Business Development',\n",
              "       'Engineering', 'Marketing', 'Sales', 'No Team', 'Legal', 'Product',\n",
              "       'Human Resources', 'Distribution', 'Finance', 'Legal',\n",
              "       'Human Resources', 'Business Development', 'Engineering',\n",
              "       'Finance', 'Finance', 'Distribution', 'Human Resources',\n",
              "       'Distribution', 'Business Development', 'Product', 'Sales',\n",
              "       'Legal', 'Client Services', 'Human Resources', 'Finance',\n",
              "       'Product', 'Product', 'No Team', 'No Team', 'Business Development',\n",
              "       'No Team', 'Finance', 'No Team', 'Finance', 'Product',\n",
              "       'Human Resources', 'Business Development', 'Marketing', 'Finance',\n",
              "       'Sales', 'Human Resources', 'No Team', 'Legal', 'Client Services',\n",
              "       'Marketing', 'Product', 'Business Development', 'Marketing',\n",
              "       'Engineering', 'Business Development', 'Sales', 'Human Resources',\n",
              "       'Engineering', 'Marketing', 'Client Services', 'Distribution',\n",
              "       'Client Services', 'Finance', 'Marketing', 'Distribution',\n",
              "       'Marketing', 'Finance', 'Product', 'Sales', 'Legal', 'Legal',\n",
              "       'Finance', 'Finance', 'Finance', 'Sales', 'Business Development',\n",
              "       'Marketing', 'Business Development', 'Sales', 'Finance',\n",
              "       'Business Development', 'Marketing', 'Human Resources',\n",
              "       'Distribution', 'Distribution', 'Human Resources',\n",
              "       'Human Resources', 'Finance', 'Sales', 'Finance', 'Engineering',\n",
              "       'Product', 'Legal', 'Business Development', 'No Team', 'Marketing',\n",
              "       'Distribution', 'Client Services', 'Business Development',\n",
              "       'Product', 'Client Services', 'Distribution', 'Client Services',\n",
              "       'Sales', 'Business Development', 'Business Development',\n",
              "       'Client Services', 'Sales', 'Distribution', 'Business Development',\n",
              "       'Business Development', 'Legal', 'Marketing', 'Distribution',\n",
              "       'Client Services', 'Business Development', 'Engineering',\n",
              "       'Engineering', 'Business Development', 'Client Services',\n",
              "       'Client Services', 'Client Services', 'Distribution',\n",
              "       'Engineering', 'Marketing', 'Engineering', 'Distribution',\n",
              "       'Distribution', 'Distribution', 'Marketing', 'Engineering',\n",
              "       'Business Development', 'Business Development', 'No Team',\n",
              "       'Human Resources', 'Product', 'Finance', 'Legal', 'Engineering',\n",
              "       'Sales', 'Engineering', 'Business Development',\n",
              "       'Business Development', 'Legal', 'Product', 'Sales', 'Sales',\n",
              "       'Client Services', 'Human Resources', 'Engineering',\n",
              "       'Distribution', 'Engineering', 'Product', 'Business Development',\n",
              "       'Sales', 'Business Development', 'Client Services', 'Sales',\n",
              "       'Legal', 'Product', 'Human Resources', 'Product', 'Engineering',\n",
              "       'Legal', 'Human Resources', 'Engineering', 'Engineering', 'Legal',\n",
              "       'Marketing', 'Finance', 'Human Resources', 'Legal',\n",
              "       'Client Services', 'Marketing', 'Finance', 'Engineering',\n",
              "       'Marketing', 'Distribution', 'Finance', 'Product',\n",
              "       'Business Development', 'Sales'], dtype=object)"
            ]
          },
          "metadata": {},
          "execution_count": 149
        }
      ]
    },
    {
      "cell_type": "code",
      "metadata": {
        "colab": {
          "base_uri": "https://localhost:8080/"
        },
        "id": "LsTDmE1SlPkb",
        "outputId": "89be3928-30bd-4b63-aada-81045b372a68"
      },
      "source": [
        "data['Team'].unique()"
      ],
      "execution_count": null,
      "outputs": [
        {
          "output_type": "execute_result",
          "data": {
            "text/plain": [
              "array(['Marketing', 'No Team', 'Finance', 'Legal', 'Product',\n",
              "       'Engineering', 'Business Development', 'Human Resources', 'Sales',\n",
              "       'Client Services', 'Distribution'], dtype=object)"
            ]
          },
          "metadata": {},
          "execution_count": 153
        }
      ]
    },
    {
      "cell_type": "code",
      "metadata": {
        "id": "Tzm3caw0leR5"
      },
      "source": [
        "team_salary = data.groupby('Team') ['Salary'].sum()   \n",
        "#to group the data\n",
        "#it will group only numeric column "
      ],
      "execution_count": null,
      "outputs": []
    },
    {
      "cell_type": "code",
      "metadata": {
        "colab": {
          "base_uri": "https://localhost:8080/"
        },
        "id": "ckMKxxHzmUmN",
        "outputId": "af9f9d2b-3089-4986-936c-3fcc874b8798"
      },
      "source": [
        "type(team_salary)"
      ],
      "execution_count": null,
      "outputs": [
        {
          "output_type": "execute_result",
          "data": {
            "text/plain": [
              "pandas.core.series.Series"
            ]
          },
          "metadata": {},
          "execution_count": 157
        }
      ]
    },
    {
      "cell_type": "code",
      "metadata": {
        "colab": {
          "base_uri": "https://localhost:8080/"
        },
        "id": "ZDAiigWJm6st",
        "outputId": "c28d4e33-461d-44d5-925f-a40159891284"
      },
      "source": [
        "team_salary"
      ],
      "execution_count": null,
      "outputs": [
        {
          "output_type": "execute_result",
          "data": {
            "text/plain": [
              "Team\n",
              "Business Development    9278498.0\n",
              "Client Services         9250785.0\n",
              "Distribution            7965042.0\n",
              "Engineering             8672766.0\n",
              "Finance                 9275797.0\n",
              "Human Resources         8275952.0\n",
              "Legal                   7858718.0\n",
              "Marketing               8862688.0\n",
              "No Team                 3902815.0\n",
              "Product                 8423223.0\n",
              "Sales                   8664303.0\n",
              "Name: Salary, dtype: float64"
            ]
          },
          "metadata": {},
          "execution_count": 158
        }
      ]
    },
    {
      "cell_type": "code",
      "metadata": {
        "colab": {
          "base_uri": "https://localhost:8080/",
          "height": 388
        },
        "id": "FS1Ydh1zm-aI",
        "outputId": "a2bb403a-22cc-4e2f-a4b8-bd4bd3e4bc4b"
      },
      "source": [
        "#here team is index value\n",
        "#and here there is only 1 column\n",
        "#to reset the index\n",
        "team_salary = team_salary.reset_index()\n",
        "team_salary"
      ],
      "execution_count": null,
      "outputs": [
        {
          "output_type": "execute_result",
          "data": {
            "text/html": [
              "<div>\n",
              "<style scoped>\n",
              "    .dataframe tbody tr th:only-of-type {\n",
              "        vertical-align: middle;\n",
              "    }\n",
              "\n",
              "    .dataframe tbody tr th {\n",
              "        vertical-align: top;\n",
              "    }\n",
              "\n",
              "    .dataframe thead th {\n",
              "        text-align: right;\n",
              "    }\n",
              "</style>\n",
              "<table border=\"1\" class=\"dataframe\">\n",
              "  <thead>\n",
              "    <tr style=\"text-align: right;\">\n",
              "      <th></th>\n",
              "      <th>Team</th>\n",
              "      <th>Salary</th>\n",
              "    </tr>\n",
              "  </thead>\n",
              "  <tbody>\n",
              "    <tr>\n",
              "      <th>0</th>\n",
              "      <td>Business Development</td>\n",
              "      <td>9278498.0</td>\n",
              "    </tr>\n",
              "    <tr>\n",
              "      <th>1</th>\n",
              "      <td>Client Services</td>\n",
              "      <td>9250785.0</td>\n",
              "    </tr>\n",
              "    <tr>\n",
              "      <th>2</th>\n",
              "      <td>Distribution</td>\n",
              "      <td>7965042.0</td>\n",
              "    </tr>\n",
              "    <tr>\n",
              "      <th>3</th>\n",
              "      <td>Engineering</td>\n",
              "      <td>8672766.0</td>\n",
              "    </tr>\n",
              "    <tr>\n",
              "      <th>4</th>\n",
              "      <td>Finance</td>\n",
              "      <td>9275797.0</td>\n",
              "    </tr>\n",
              "    <tr>\n",
              "      <th>5</th>\n",
              "      <td>Human Resources</td>\n",
              "      <td>8275952.0</td>\n",
              "    </tr>\n",
              "    <tr>\n",
              "      <th>6</th>\n",
              "      <td>Legal</td>\n",
              "      <td>7858718.0</td>\n",
              "    </tr>\n",
              "    <tr>\n",
              "      <th>7</th>\n",
              "      <td>Marketing</td>\n",
              "      <td>8862688.0</td>\n",
              "    </tr>\n",
              "    <tr>\n",
              "      <th>8</th>\n",
              "      <td>No Team</td>\n",
              "      <td>3902815.0</td>\n",
              "    </tr>\n",
              "    <tr>\n",
              "      <th>9</th>\n",
              "      <td>Product</td>\n",
              "      <td>8423223.0</td>\n",
              "    </tr>\n",
              "    <tr>\n",
              "      <th>10</th>\n",
              "      <td>Sales</td>\n",
              "      <td>8664303.0</td>\n",
              "    </tr>\n",
              "  </tbody>\n",
              "</table>\n",
              "</div>"
            ],
            "text/plain": [
              "                    Team     Salary\n",
              "0   Business Development  9278498.0\n",
              "1        Client Services  9250785.0\n",
              "2           Distribution  7965042.0\n",
              "3            Engineering  8672766.0\n",
              "4                Finance  9275797.0\n",
              "5        Human Resources  8275952.0\n",
              "6                  Legal  7858718.0\n",
              "7              Marketing  8862688.0\n",
              "8                No Team  3902815.0\n",
              "9                Product  8423223.0\n",
              "10                 Sales  8664303.0"
            ]
          },
          "metadata": {},
          "execution_count": 159
        }
      ]
    },
    {
      "cell_type": "code",
      "metadata": {
        "colab": {
          "base_uri": "https://localhost:8080/",
          "height": 370
        },
        "id": "H_xDK_-CncVi",
        "outputId": "e85f90e0-31c4-41b1-8eba-d13d456315c9"
      },
      "source": [
        "import matplotlib.pyplot as plt\n",
        "plt.xticks(rotation =90 ) #to rotate the team name \n",
        "plt.bar(data['Team'],data['Salary'])\n",
        "plt.show()"
      ],
      "execution_count": null,
      "outputs": [
        {
          "output_type": "display_data",
          "data": {
            "image/png": "[encoded data removed]",
            "text/plain": [
              "<Figure size 432x288 with 1 Axes>"
            ]
          },
          "metadata": {
            "needs_background": "light"
          }
        }
      ]
    },
    {
      "cell_type": "code",
      "metadata": {
        "colab": {
          "base_uri": "https://localhost:8080/",
          "height": 265
        },
        "id": "8Tu7X1xRorQo",
        "outputId": "f7f85086-630a-4fb7-dc23-bc16b937b890"
      },
      "source": [
        "import matplotlib.pyplot as plt\n",
        "plt.barh(data['Team'],data['Salary'])\n",
        "plt.show()"
      ],
      "execution_count": null,
      "outputs": [
        {
          "output_type": "display_data",
          "data": {
            "image/png": "[encoded data removed]",
            "text/plain": [
              "<Figure size 432x288 with 1 Axes>"
            ]
          },
          "metadata": {
            "needs_background": "light"
          }
        }
      ]
    },
    {
      "cell_type": "code",
      "metadata": {
        "colab": {
          "base_uri": "https://localhost:8080/",
          "height": 203
        },
        "id": "Bmo2WRn2oW_j",
        "outputId": "bd40b019-3904-45d9-faf4-f217bf6c30f4"
      },
      "source": [
        "data.head()"
      ],
      "execution_count": null,
      "outputs": [
        {
          "output_type": "execute_result",
          "data": {
            "text/html": [
              "<div>\n",
              "<style scoped>\n",
              "    .dataframe tbody tr th:only-of-type {\n",
              "        vertical-align: middle;\n",
              "    }\n",
              "\n",
              "    .dataframe tbody tr th {\n",
              "        vertical-align: top;\n",
              "    }\n",
              "\n",
              "    .dataframe thead th {\n",
              "        text-align: right;\n",
              "    }\n",
              "</style>\n",
              "<table border=\"1\" class=\"dataframe\">\n",
              "  <thead>\n",
              "    <tr style=\"text-align: right;\">\n",
              "      <th></th>\n",
              "      <th>First Name</th>\n",
              "      <th>Gender</th>\n",
              "      <th>Start Date</th>\n",
              "      <th>Salary</th>\n",
              "      <th>Bonus %</th>\n",
              "      <th>Team</th>\n",
              "    </tr>\n",
              "  </thead>\n",
              "  <tbody>\n",
              "    <tr>\n",
              "      <th>0</th>\n",
              "      <td>Douglas</td>\n",
              "      <td>Male</td>\n",
              "      <td>1993-08-06</td>\n",
              "      <td>97308.0</td>\n",
              "      <td>6.945</td>\n",
              "      <td>Marketing</td>\n",
              "    </tr>\n",
              "    <tr>\n",
              "      <th>1</th>\n",
              "      <td>Thomas</td>\n",
              "      <td>Male</td>\n",
              "      <td>1996-03-31</td>\n",
              "      <td>61933.0</td>\n",
              "      <td>4.170</td>\n",
              "      <td>No Team</td>\n",
              "    </tr>\n",
              "    <tr>\n",
              "      <th>3</th>\n",
              "      <td>Jerry</td>\n",
              "      <td>Male</td>\n",
              "      <td>2005-03-04</td>\n",
              "      <td>138705.0</td>\n",
              "      <td>9.340</td>\n",
              "      <td>Finance</td>\n",
              "    </tr>\n",
              "    <tr>\n",
              "      <th>5</th>\n",
              "      <td>Dennis</td>\n",
              "      <td>Male</td>\n",
              "      <td>1987-04-18</td>\n",
              "      <td>115163.0</td>\n",
              "      <td>10.125</td>\n",
              "      <td>Legal</td>\n",
              "    </tr>\n",
              "    <tr>\n",
              "      <th>6</th>\n",
              "      <td>Ruby</td>\n",
              "      <td>Female</td>\n",
              "      <td>1987-08-17</td>\n",
              "      <td>65476.0</td>\n",
              "      <td>10.012</td>\n",
              "      <td>Product</td>\n",
              "    </tr>\n",
              "  </tbody>\n",
              "</table>\n",
              "</div>"
            ],
            "text/plain": [
              "  First Name  Gender Start Date    Salary  Bonus %       Team\n",
              "0    Douglas    Male 1993-08-06   97308.0    6.945  Marketing\n",
              "1     Thomas    Male 1996-03-31   61933.0    4.170    No Team\n",
              "3      Jerry    Male 2005-03-04  138705.0    9.340    Finance\n",
              "5     Dennis    Male 1987-04-18  115163.0   10.125      Legal\n",
              "6       Ruby  Female 1987-08-17   65476.0   10.012    Product"
            ]
          },
          "metadata": {},
          "execution_count": 164
        }
      ]
    },
    {
      "cell_type": "code",
      "metadata": {
        "id": "HSIUjNOYpNl5"
      },
      "source": [
        "# to delete the rows in which salary is less than 50000\n",
        "#first  we have to find out where the salary is less than 50000\n",
        "a = data[data['Salary'] < 50000].index"
      ],
      "execution_count": null,
      "outputs": []
    },
    {
      "cell_type": "code",
      "metadata": {
        "colab": {
          "base_uri": "https://localhost:8080/",
          "height": 417
        },
        "id": "Au9kzrfxqMVa",
        "outputId": "f802735b-2d1d-492e-fb2c-8f662e23f243"
      },
      "source": [
        "data.drop(a,axis = 0)"
      ],
      "execution_count": null,
      "outputs": [
        {
          "output_type": "execute_result",
          "data": {
            "text/html": [
              "<div>\n",
              "<style scoped>\n",
              "    .dataframe tbody tr th:only-of-type {\n",
              "        vertical-align: middle;\n",
              "    }\n",
              "\n",
              "    .dataframe tbody tr th {\n",
              "        vertical-align: top;\n",
              "    }\n",
              "\n",
              "    .dataframe thead th {\n",
              "        text-align: right;\n",
              "    }\n",
              "</style>\n",
              "<table border=\"1\" class=\"dataframe\">\n",
              "  <thead>\n",
              "    <tr style=\"text-align: right;\">\n",
              "      <th></th>\n",
              "      <th>First Name</th>\n",
              "      <th>Gender</th>\n",
              "      <th>Start Date</th>\n",
              "      <th>Salary</th>\n",
              "      <th>Bonus %</th>\n",
              "      <th>Team</th>\n",
              "    </tr>\n",
              "  </thead>\n",
              "  <tbody>\n",
              "    <tr>\n",
              "      <th>0</th>\n",
              "      <td>Douglas</td>\n",
              "      <td>Male</td>\n",
              "      <td>1993-08-06</td>\n",
              "      <td>97308.0</td>\n",
              "      <td>6.945</td>\n",
              "      <td>Marketing</td>\n",
              "    </tr>\n",
              "    <tr>\n",
              "      <th>1</th>\n",
              "      <td>Thomas</td>\n",
              "      <td>Male</td>\n",
              "      <td>1996-03-31</td>\n",
              "      <td>61933.0</td>\n",
              "      <td>4.170</td>\n",
              "      <td>No Team</td>\n",
              "    </tr>\n",
              "    <tr>\n",
              "      <th>3</th>\n",
              "      <td>Jerry</td>\n",
              "      <td>Male</td>\n",
              "      <td>2005-03-04</td>\n",
              "      <td>138705.0</td>\n",
              "      <td>9.340</td>\n",
              "      <td>Finance</td>\n",
              "    </tr>\n",
              "    <tr>\n",
              "      <th>5</th>\n",
              "      <td>Dennis</td>\n",
              "      <td>Male</td>\n",
              "      <td>1987-04-18</td>\n",
              "      <td>115163.0</td>\n",
              "      <td>10.125</td>\n",
              "      <td>Legal</td>\n",
              "    </tr>\n",
              "    <tr>\n",
              "      <th>6</th>\n",
              "      <td>Ruby</td>\n",
              "      <td>Female</td>\n",
              "      <td>1987-08-17</td>\n",
              "      <td>65476.0</td>\n",
              "      <td>10.012</td>\n",
              "      <td>Product</td>\n",
              "    </tr>\n",
              "    <tr>\n",
              "      <th>...</th>\n",
              "      <td>...</td>\n",
              "      <td>...</td>\n",
              "      <td>...</td>\n",
              "      <td>...</td>\n",
              "      <td>...</td>\n",
              "      <td>...</td>\n",
              "    </tr>\n",
              "    <tr>\n",
              "      <th>994</th>\n",
              "      <td>George</td>\n",
              "      <td>Male</td>\n",
              "      <td>2013-06-21</td>\n",
              "      <td>98874.0</td>\n",
              "      <td>4.479</td>\n",
              "      <td>Marketing</td>\n",
              "    </tr>\n",
              "    <tr>\n",
              "      <th>995</th>\n",
              "      <td>Henry</td>\n",
              "      <td>Other</td>\n",
              "      <td>2014-11-23</td>\n",
              "      <td>132483.0</td>\n",
              "      <td>16.655</td>\n",
              "      <td>Distribution</td>\n",
              "    </tr>\n",
              "    <tr>\n",
              "      <th>997</th>\n",
              "      <td>Russell</td>\n",
              "      <td>Male</td>\n",
              "      <td>2013-05-20</td>\n",
              "      <td>96914.0</td>\n",
              "      <td>1.421</td>\n",
              "      <td>Product</td>\n",
              "    </tr>\n",
              "    <tr>\n",
              "      <th>998</th>\n",
              "      <td>Larry</td>\n",
              "      <td>Male</td>\n",
              "      <td>2013-04-20</td>\n",
              "      <td>60500.0</td>\n",
              "      <td>11.985</td>\n",
              "      <td>Business Development</td>\n",
              "    </tr>\n",
              "    <tr>\n",
              "      <th>999</th>\n",
              "      <td>Albert</td>\n",
              "      <td>Male</td>\n",
              "      <td>2012-05-15</td>\n",
              "      <td>129949.0</td>\n",
              "      <td>10.169</td>\n",
              "      <td>Sales</td>\n",
              "    </tr>\n",
              "  </tbody>\n",
              "</table>\n",
              "<p>852 rows × 6 columns</p>\n",
              "</div>"
            ],
            "text/plain": [
              "    First Name  Gender Start Date    Salary  Bonus %                  Team\n",
              "0      Douglas    Male 1993-08-06   97308.0    6.945             Marketing\n",
              "1       Thomas    Male 1996-03-31   61933.0    4.170               No Team\n",
              "3        Jerry    Male 2005-03-04  138705.0    9.340               Finance\n",
              "5       Dennis    Male 1987-04-18  115163.0   10.125                 Legal\n",
              "6         Ruby  Female 1987-08-17   65476.0   10.012               Product\n",
              "..         ...     ...        ...       ...      ...                   ...\n",
              "994     George    Male 2013-06-21   98874.0    4.479             Marketing\n",
              "995      Henry   Other 2014-11-23  132483.0   16.655          Distribution\n",
              "997    Russell    Male 2013-05-20   96914.0    1.421               Product\n",
              "998      Larry    Male 2013-04-20   60500.0   11.985  Business Development\n",
              "999     Albert    Male 2012-05-15  129949.0   10.169                 Sales\n",
              "\n",
              "[852 rows x 6 columns]"
            ]
          },
          "metadata": {},
          "execution_count": 169
        }
      ]
    },
    {
      "cell_type": "code",
      "metadata": {
        "id": "3fbxZJ6xqfY1"
      },
      "source": [
        ""
      ],
      "execution_count": null,
      "outputs": []
    }
  ]
}
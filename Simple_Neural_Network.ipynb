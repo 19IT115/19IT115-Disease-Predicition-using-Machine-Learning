{
  "nbformat": 4,
  "nbformat_minor": 0,
  "metadata": {
    "colab": {
      "name": "Simple Neural Network.ipynb",
      "provenance": [],
      "collapsed_sections": []
    },
    "kernelspec": {
      "name": "python3",
      "display_name": "Python 3"
    },
    "language_info": {
      "name": "python"
    }
  },
  "cells": [
    {
      "cell_type": "code",
      "metadata": {
        "id": "xE1M6xjKxsI6"
      },
      "source": [
        "# Here we are going to create 2 layers input and output from scratch\n",
        "import numpy as np"
      ],
      "execution_count": null,
      "outputs": []
    },
    {
      "cell_type": "code",
      "metadata": {
        "colab": {
          "base_uri": "https://localhost:8080/"
        },
        "id": "3VP3-_NL5iw_",
        "outputId": "f73154fe-bead-4607-e963-195a2c79bb32"
      },
      "source": [
        "inputs = np.array([[0,0,1], [1,0,1], [1,1,0],[0,1,0]])\n",
        "inputs"
      ],
      "execution_count": null,
      "outputs": [
        {
          "output_type": "execute_result",
          "data": {
            "text/plain": [
              "array([[0, 0, 1],\n",
              "       [1, 0, 1],\n",
              "       [1, 1, 0],\n",
              "       [0, 1, 0]])"
            ]
          },
          "metadata": {},
          "execution_count": 23
        }
      ]
    },
    {
      "cell_type": "code",
      "metadata": {
        "colab": {
          "base_uri": "https://localhost:8080/"
        },
        "id": "e9b9HZ5_6rIT",
        "outputId": "66183d08-2183-41c2-f35f-edacf6fe9680"
      },
      "source": [
        "outputs = np.array([[0], [1], [1],[0]])\n",
        "outputs"
      ],
      "execution_count": null,
      "outputs": [
        {
          "output_type": "execute_result",
          "data": {
            "text/plain": [
              "array([[0],\n",
              "       [1],\n",
              "       [1],\n",
              "       [0]])"
            ]
          },
          "metadata": {},
          "execution_count": 24
        }
      ]
    },
    {
      "cell_type": "code",
      "metadata": {
        "colab": {
          "base_uri": "https://localhost:8080/"
        },
        "id": "3WL_LC1R6_oZ",
        "outputId": "b2e91d05-5b5a-4cac-efc1-995e37619bc1"
      },
      "source": [
        "np.random.seed(10)\n",
        "weights = np.random.random((3,1))  #second random will print values between 0 to 1 \n",
        "                                  # if we write randint it will generate integer value\n",
        "weights"
      ],
      "execution_count": null,
      "outputs": [
        {
          "output_type": "execute_result",
          "data": {
            "text/plain": [
              "array([[0.77132064],\n",
              "       [0.02075195],\n",
              "       [0.63364823]])"
            ]
          },
          "metadata": {},
          "execution_count": 25
        }
      ]
    },
    {
      "cell_type": "code",
      "metadata": {
        "colab": {
          "base_uri": "https://localhost:8080/"
        },
        "id": "AbprzyG-8DdZ",
        "outputId": "2ccde2ff-749e-4423-a01e-d08a8a08678e"
      },
      "source": [
        "sum = np.dot(inputs, weights) + 0.02 #0.02 is bias value\n",
        "sum"
      ],
      "execution_count": null,
      "outputs": [
        {
          "output_type": "execute_result",
          "data": {
            "text/plain": [
              "array([[0.65364823],\n",
              "       [1.42496888],\n",
              "       [0.81207259],\n",
              "       [0.04075195]])"
            ]
          },
          "metadata": {},
          "execution_count": 26
        }
      ]
    },
    {
      "cell_type": "code",
      "metadata": {
        "id": "2gMW-Xzr_w-V"
      },
      "source": [
        "# We have to create Activation function\n",
        "def activation(x):\n",
        "  return 1/(1+np.exp(-x))\n",
        "  "
      ],
      "execution_count": null,
      "outputs": []
    },
    {
      "cell_type": "code",
      "metadata": {
        "colab": {
          "base_uri": "https://localhost:8080/"
        },
        "id": "iHuZtB4MAQXy",
        "outputId": "39a8e56c-9e70-4164-9127-71b98fff5a89"
      },
      "source": [
        "pred_output = activation(sum)\n",
        "pred_output"
      ],
      "execution_count": null,
      "outputs": [
        {
          "output_type": "execute_result",
          "data": {
            "text/plain": [
              "array([[0.65783211],\n",
              "       [0.8061162 ],\n",
              "       [0.69255099],\n",
              "       [0.51018658]])"
            ]
          },
          "metadata": {},
          "execution_count": 28
        }
      ]
    },
    {
      "cell_type": "code",
      "metadata": {
        "colab": {
          "base_uri": "https://localhost:8080/"
        },
        "id": "fHdaGlM3AfoQ",
        "outputId": "718726b1-88e2-4ac0-9ac4-8bbee5879d53"
      },
      "source": [
        "pred_output.round() # This output is wrong\n",
        "                  # we are expecting this output [[0], [1], [1],[0]] so we are 50% wrong\n",
        "                  "
      ],
      "execution_count": null,
      "outputs": [
        {
          "output_type": "execute_result",
          "data": {
            "text/plain": [
              "array([[1.],\n",
              "       [1.],\n",
              "       [1.],\n",
              "       [1.]])"
            ]
          },
          "metadata": {},
          "execution_count": 29
        }
      ]
    },
    {
      "cell_type": "code",
      "metadata": {
        "colab": {
          "base_uri": "https://localhost:8080/"
        },
        "id": "49Rp3kRHA-8w",
        "outputId": "02f1df7b-0434-498d-cd36-4e3b740ef1da"
      },
      "source": [
        "# Now we will calculate the error\n",
        "sum = np.dot(inputs,weights) + 0.02\n",
        "pred_output = activation(sum)\n",
        "error = outputs - pred_output  #this is error in our case which should be 0\n",
        "error"
      ],
      "execution_count": null,
      "outputs": [
        {
          "output_type": "execute_result",
          "data": {
            "text/plain": [
              "array([[-0.65783211],\n",
              "       [ 0.1938838 ],\n",
              "       [ 0.30744901],\n",
              "       [-0.51018658]])"
            ]
          },
          "metadata": {},
          "execution_count": 30
        }
      ]
    },
    {
      "cell_type": "code",
      "metadata": {
        "id": "nBJGuRmiHWbu"
      },
      "source": [
        "# For reduce the error we will use Gradient descent and back propogation\n",
        "def gradient(x,a):\n",
        "  return a * x * (1-x)  # This is deravtive of sigmoid"
      ],
      "execution_count": null,
      "outputs": []
    },
    {
      "cell_type": "code",
      "metadata": {
        "colab": {
          "base_uri": "https://localhost:8080/"
        },
        "id": "YyoQdUFbJFEI",
        "outputId": "d79486e0-0179-4bc5-c9c2-0e98c70293a5"
      },
      "source": [
        "sum = np.dot(inputs,weights) + 0.02\n",
        "pred_output = activation(sum)\n",
        "error = outputs - pred_output  # This is error in our case which should be 0\n",
        "change_in_wt = gradient(pred_output, error)  # Here I am passing error value as my learning rate\n",
        "weights = weights + np.dot(inputs.T, change_in_wt) # This is back propogation\n",
        "error  # Every time we run the code error will reduce"
      ],
      "execution_count": null,
      "outputs": [
        {
          "output_type": "execute_result",
          "data": {
            "text/plain": [
              "array([[-0.57640216],\n",
              "       [ 0.20384117],\n",
              "       [ 0.28624393],\n",
              "       [-0.46487306]])"
            ]
          },
          "metadata": {},
          "execution_count": 40
        }
      ]
    },
    {
      "cell_type": "code",
      "metadata": {
        "colab": {
          "base_uri": "https://localhost:8080/"
        },
        "id": "N4BIgyJSODZK",
        "outputId": "e2621a55-4555-4b6a-abe9-a0c0089f74b4"
      },
      "source": [
        "inputs.T.shape # Here T is transpose"
      ],
      "execution_count": null,
      "outputs": [
        {
          "output_type": "execute_result",
          "data": {
            "text/plain": [
              "(3, 4)"
            ]
          },
          "metadata": {},
          "execution_count": 36
        }
      ]
    },
    {
      "cell_type": "code",
      "metadata": {
        "colab": {
          "base_uri": "https://localhost:8080/"
        },
        "id": "1J-wqbnjOLdS",
        "outputId": "058f28bd-9d76-4feb-9071-1e9fbeeb5a34"
      },
      "source": [
        "change_in_wt.shape"
      ],
      "execution_count": null,
      "outputs": [
        {
          "output_type": "execute_result",
          "data": {
            "text/plain": [
              "(4, 1)"
            ]
          },
          "metadata": {},
          "execution_count": 35
        }
      ]
    },
    {
      "cell_type": "code",
      "metadata": {
        "id": "YvcLMzjkO277"
      },
      "source": [
        "# if we want to get null value of error\n",
        "# We can do training of network\n",
        "for i in range(500):\n",
        "  sum = np.dot(inputs,weights) + 0.02\n",
        "  pred_output = activation(sum)\n",
        "  error = outputs - pred_output  # This is error in our case which should be 0\n",
        "  change_in_wt = gradient(pred_output, error)  # Here I am passing error value as my learning rate\n",
        "  weights = weights + np.dot(inputs.T, change_in_wt) # This is back propogation\n",
        "  # Every time we run the code error will reduce"
      ],
      "execution_count": null,
      "outputs": []
    },
    {
      "cell_type": "code",
      "metadata": {
        "colab": {
          "base_uri": "https://localhost:8080/"
        },
        "id": "0yXEEAOVPmuN",
        "outputId": "7b0f8065-2bb1-42a9-c49c-cda0f81ff220"
      },
      "source": [
        "error"
      ],
      "execution_count": null,
      "outputs": [
        {
          "output_type": "execute_result",
          "data": {
            "text/plain": [
              "array([[-0.0487281 ],\n",
              "       [ 0.03407751],\n",
              "       [ 0.03407758],\n",
              "       [-0.048728  ]])"
            ]
          },
          "metadata": {},
          "execution_count": 42
        }
      ]
    },
    {
      "cell_type": "code",
      "metadata": {
        "colab": {
          "base_uri": "https://localhost:8080/"
        },
        "id": "tDG0yQRiPrLA",
        "outputId": "5e6bd371-0d93-42b6-8162-91051611c58c"
      },
      "source": [
        "pred_output"
      ],
      "execution_count": null,
      "outputs": [
        {
          "output_type": "execute_result",
          "data": {
            "text/plain": [
              "array([[0.0487281 ],\n",
              "       [0.96592249],\n",
              "       [0.96592242],\n",
              "       [0.048728  ]])"
            ]
          },
          "metadata": {},
          "execution_count": 43
        }
      ]
    },
    {
      "cell_type": "code",
      "metadata": {
        "colab": {
          "base_uri": "https://localhost:8080/"
        },
        "id": "EQZqCpPiPx8b",
        "outputId": "b74efc74-5c8e-4b02-f423-7f4726b1eecf"
      },
      "source": [
        "pred_output.round() # Desired output"
      ],
      "execution_count": null,
      "outputs": [
        {
          "output_type": "execute_result",
          "data": {
            "text/plain": [
              "array([[0.],\n",
              "       [1.],\n",
              "       [1.],\n",
              "       [0.]])"
            ]
          },
          "metadata": {},
          "execution_count": 46
        }
      ]
    },
    {
      "cell_type": "code",
      "metadata": {
        "id": "ripIswt0Vjwh"
      },
      "source": [
        ""
      ],
      "execution_count": null,
      "outputs": []
    }
  ]
}